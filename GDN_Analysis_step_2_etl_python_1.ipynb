{
  "nbformat": 4,
  "nbformat_minor": 0,
  "metadata": {
    "colab": {
      "name": "GDN Analysis.step 2 - etl.python.1.ipynb",
      "version": "0.3.2",
      "provenance": [],
      "collapsed_sections": [],
      "toc_visible": true,
      "include_colab_link": true
    },
    "kernelspec": {
      "name": "python3",
      "display_name": "Python 3"
    }
  },
  "cells": [
    {
      "cell_type": "markdown",
      "metadata": {
        "id": "view-in-github",
        "colab_type": "text"
      },
      "source": [
        "<a href=\"https://colab.research.google.com/github/olivierlubet/IBM_advanced_datascience_Coursera_Capstone/blob/master/GDN_Analysis_step_2_etl_python_1.ipynb\" target=\"_parent\"><img src=\"https://colab.research.google.com/assets/colab-badge.svg\" alt=\"Open In Colab\"/></a>"
      ]
    },
    {
      "metadata": {
        "id": "vymUr2vA7ljX",
        "colab_type": "text"
      },
      "cell_type": "markdown",
      "source": [
        "# Grand Débat National - Extract, Transform and Load\n",
        "Open data are published under the following link : https://granddebat.fr/pages/donnees-ouvertes\n"
      ]
    },
    {
      "metadata": {
        "id": "WLzCDFo58trm",
        "colab_type": "code",
        "colab": {}
      },
      "cell_type": "code",
      "source": [
        ""
      ],
      "execution_count": 0,
      "outputs": []
    },
    {
      "metadata": {
        "id": "9dKILVsH8ulj",
        "colab_type": "text"
      },
      "cell_type": "markdown",
      "source": [
        "## Installing and importing required libraries "
      ]
    },
    {
      "metadata": {
        "id": "QPIS5rdjryxP",
        "colab_type": "code",
        "colab": {}
      },
      "cell_type": "code",
      "source": [
        "import pandas as pd\n",
        "import os\n",
        "import zipfile"
      ],
      "execution_count": 0,
      "outputs": []
    },
    {
      "metadata": {
        "id": "-2Ob8OCIsLqG",
        "colab_type": "code",
        "colab": {}
      },
      "cell_type": "code",
      "source": [
        ""
      ],
      "execution_count": 0,
      "outputs": []
    },
    {
      "metadata": {
        "id": "X4cTSdR8sPdu",
        "colab_type": "code",
        "colab": {}
      },
      "cell_type": "code",
      "source": [
        ""
      ],
      "execution_count": 0,
      "outputs": []
    },
    {
      "metadata": {
        "id": "TOvEyp02s4Mt",
        "colab_type": "code",
        "colab": {}
      },
      "cell_type": "code",
      "source": [
        ""
      ],
      "execution_count": 0,
      "outputs": []
    },
    {
      "metadata": {
        "id": "AxtDcBr98x9i",
        "colab_type": "text"
      },
      "cell_type": "markdown",
      "source": [
        "# Part 1 - consolidating a single file\n",
        "## Defining the sources locations"
      ]
    },
    {
      "metadata": {
        "id": "mwZSN3kStBHB",
        "colab_type": "code",
        "colab": {}
      },
      "cell_type": "code",
      "source": [
        "src=[\n",
        "    #'http://opendata.auth-6f31f706db6f4a24b55f42a6a79c5086.storage.sbg5.cloud.ovh.net/2019-01-31/LA_TRANSITION_ECOLOGIQUE.json',\n",
        "    #'http://opendata.auth-6f31f706db6f4a24b55f42a6a79c5086.storage.sbg5.cloud.ovh.net/2019-02-06/LA_TRANSITION_ECOLOGIQUE.json',\n",
        "    #'http://opendata.auth-6f31f706db6f4a24b55f42a6a79c5086.storage.sbg5.cloud.ovh.net/2019-02-17/LA_TRANSITION_ECOLOGIQUE.json',\n",
        "    'http://opendata.auth-6f31f706db6f4a24b55f42a6a79c5086.storage.sbg5.cloud.ovh.net/2019-03-02/LA_TRANSITION_ECOLOGIQUE.json',\n",
        "    #'http://opendata.auth-6f31f706db6f4a24b55f42a6a79c5086.storage.sbg5.cloud.ovh.net/2019-03-08/LA_TRANSITION_ECOLOGIQUE.json',\n",
        "    #'http://opendata.auth-6f31f706db6f4a24b55f42a6a79c5086.storage.sbg5.cloud.ovh.net/2019-03-21/LA_TRANSITION_ECOLOGIQUE.json'\n",
        "]"
      ],
      "execution_count": 0,
      "outputs": []
    },
    {
      "metadata": {
        "id": "uuFy3PQL83R-",
        "colab_type": "text"
      },
      "cell_type": "markdown",
      "source": [
        "## Source extraction"
      ]
    },
    {
      "metadata": {
        "id": "j3UiIKEytPt6",
        "colab_type": "code",
        "colab": {}
      },
      "cell_type": "code",
      "source": [
        "def extract(url):\n",
        "  print('Downloading ',url)\n",
        "  return pd.read_json(url)\n",
        "  "
      ],
      "execution_count": 0,
      "outputs": []
    },
    {
      "metadata": {
        "id": "YV1naUxg87aj",
        "colab_type": "text"
      },
      "cell_type": "markdown",
      "source": [
        "## Transformation - Data Cleanning\n",
        "\n",
        "The main aspects of datacleaning are\n",
        "* filters on 'non null' values and on simple answers 'Oui' or 'Non'\n",
        "* selection of 'questions' and 'answers'"
      ]
    },
    {
      "metadata": {
        "id": "x3XSp5wzvUBH",
        "colab_type": "code",
        "colab": {}
      },
      "cell_type": "code",
      "source": [
        "def transform(df):\n",
        "  print('Transforming ...')\n",
        "  list_rep = [item for sublist in df.responses.tolist() for item in sublist]\n",
        "  df_rep = pd.DataFrame(list_rep)\n",
        "  filter = (df_rep.formattedValue.notnull()) & (df_rep.formattedValue!='')  & (df_rep.formattedValue!='Oui') & (df_rep.formattedValue!='Non') \n",
        "  df_rep_ff = df_rep[filter]\n",
        "  return df_rep_ff[['questionTitle','formattedValue']].dropna()"
      ],
      "execution_count": 0,
      "outputs": []
    },
    {
      "metadata": {
        "id": "yIT9tQCdt-dn",
        "colab_type": "code",
        "colab": {}
      },
      "cell_type": "code",
      "source": [
        ""
      ],
      "execution_count": 0,
      "outputs": []
    },
    {
      "metadata": {
        "id": "62Ybw3mn9Vxz",
        "colab_type": "text"
      },
      "cell_type": "markdown",
      "source": [
        "## Load"
      ]
    },
    {
      "metadata": {
        "id": "L103QcgotfJO",
        "colab_type": "code",
        "colab": {}
      },
      "cell_type": "code",
      "source": [
        "def load (df,filename):\n",
        "  with open(filename, 'a') as f:\n",
        "    print('Writing file ',filename)\n",
        "    df.to_csv(f, mode='a', header=f.tell()==0)"
      ],
      "execution_count": 0,
      "outputs": []
    },
    {
      "metadata": {
        "id": "IDnGqVDjtm1Q",
        "colab_type": "code",
        "colab": {}
      },
      "cell_type": "code",
      "source": [
        ""
      ],
      "execution_count": 0,
      "outputs": []
    },
    {
      "metadata": {
        "id": "C_X-r70h-emC",
        "colab_type": "text"
      },
      "cell_type": "markdown",
      "source": [
        "## Batch Extract - Transform - Load"
      ]
    },
    {
      "metadata": {
        "id": "1lCvHpez-hjX",
        "colab_type": "code",
        "outputId": "12134ede-5268-4dae-c31d-a8f181306ff6",
        "colab": {
          "base_uri": "https://localhost:8080/",
          "height": 68
        }
      },
      "cell_type": "code",
      "source": [
        "filename='GDN.csv'\n",
        "\n",
        "if os.path.isfile(filename) : os.remove(filename) \n",
        "\n",
        "for url in src:\n",
        "  load(transform(extract(url)),filename)"
      ],
      "execution_count": 6,
      "outputs": [
        {
          "output_type": "stream",
          "text": [
            "Downloading  http://opendata.auth-6f31f706db6f4a24b55f42a6a79c5086.storage.sbg5.cloud.ovh.net/2019-03-02/LA_TRANSITION_ECOLOGIQUE.json\n",
            "Transforming ...\n",
            "Writing file  GDN.csv\n"
          ],
          "name": "stdout"
        }
      ]
    },
    {
      "metadata": {
        "id": "hcnDZO1NBe7I",
        "colab_type": "code",
        "outputId": "24433d40-108a-49a3-8a00-58590f2374df",
        "colab": {
          "base_uri": "https://localhost:8080/",
          "height": 119
        }
      },
      "cell_type": "code",
      "source": [
        "!ls -alh"
      ],
      "execution_count": 7,
      "outputs": [
        {
          "output_type": "stream",
          "text": [
            "total 227M\n",
            "drwxr-xr-x 1 root root 4.0K Apr  6 16:40 .\n",
            "drwxr-xr-x 1 root root 4.0K Apr  6 16:38 ..\n",
            "drwxr-xr-x 4 root root 4.0K Apr  4 20:19 .config\n",
            "-rw-r--r-- 1 root root 227M Apr  6 16:40 GDN.csv\n",
            "drwxr-xr-x 1 root root 4.0K Apr  4 20:20 sample_data\n"
          ],
          "name": "stdout"
        }
      ]
    },
    {
      "metadata": {
        "id": "E4btTvXMvU8r",
        "colab_type": "code",
        "colab": {}
      },
      "cell_type": "code",
      "source": [
        ""
      ],
      "execution_count": 0,
      "outputs": []
    },
    {
      "metadata": {
        "id": "oSjSEJHMwa_W",
        "colab_type": "code",
        "colab": {}
      },
      "cell_type": "code",
      "source": [
        ""
      ],
      "execution_count": 0,
      "outputs": []
    },
    {
      "metadata": {
        "id": "xT0eip_KwekD",
        "colab_type": "code",
        "colab": {}
      },
      "cell_type": "code",
      "source": [
        ""
      ],
      "execution_count": 0,
      "outputs": []
    },
    {
      "metadata": {
        "id": "KZlRBniIxKg9",
        "colab_type": "code",
        "colab": {}
      },
      "cell_type": "code",
      "source": [
        ""
      ],
      "execution_count": 0,
      "outputs": []
    },
    {
      "metadata": {
        "id": "R_cKVboaxT8C",
        "colab_type": "code",
        "colab": {}
      },
      "cell_type": "code",
      "source": [
        ""
      ],
      "execution_count": 0,
      "outputs": []
    },
    {
      "metadata": {
        "id": "CstExZ2Yxssx",
        "colab_type": "code",
        "colab": {}
      },
      "cell_type": "code",
      "source": [
        ""
      ],
      "execution_count": 0,
      "outputs": []
    },
    {
      "metadata": {
        "id": "CtoSydh03a-m",
        "colab_type": "code",
        "colab": {}
      },
      "cell_type": "code",
      "source": [
        ""
      ],
      "execution_count": 0,
      "outputs": []
    },
    {
      "metadata": {
        "id": "Ov33KiOZ6xiM",
        "colab_type": "code",
        "colab": {}
      },
      "cell_type": "code",
      "source": [
        ""
      ],
      "execution_count": 0,
      "outputs": []
    },
    {
      "metadata": {
        "id": "JTXLb-Olxui5",
        "colab_type": "code",
        "colab": {}
      },
      "cell_type": "code",
      "source": [
        ""
      ],
      "execution_count": 0,
      "outputs": []
    },
    {
      "metadata": {
        "id": "YEagY3Np2qpd",
        "colab_type": "code",
        "colab": {}
      },
      "cell_type": "code",
      "source": [
        ""
      ],
      "execution_count": 0,
      "outputs": []
    },
    {
      "metadata": {
        "id": "fAOlfAfTzS2K",
        "colab_type": "code",
        "colab": {}
      },
      "cell_type": "code",
      "source": [
        ""
      ],
      "execution_count": 0,
      "outputs": []
    },
    {
      "metadata": {
        "id": "1ryclABv8t0W",
        "colab_type": "code",
        "colab": {}
      },
      "cell_type": "code",
      "source": [
        ""
      ],
      "execution_count": 0,
      "outputs": []
    },
    {
      "metadata": {
        "id": "VhM170NqzZRO",
        "colab_type": "code",
        "colab": {}
      },
      "cell_type": "code",
      "source": [
        ""
      ],
      "execution_count": 0,
      "outputs": []
    },
    {
      "metadata": {
        "id": "NHTK77MrzhWi",
        "colab_type": "code",
        "colab": {}
      },
      "cell_type": "code",
      "source": [
        ""
      ],
      "execution_count": 0,
      "outputs": []
    },
    {
      "metadata": {
        "id": "OxpyfSMrzjkG",
        "colab_type": "code",
        "colab": {}
      },
      "cell_type": "code",
      "source": [
        ""
      ],
      "execution_count": 0,
      "outputs": []
    },
    {
      "metadata": {
        "id": "ctSAQUuw9Rlf",
        "colab_type": "code",
        "colab": {}
      },
      "cell_type": "code",
      "source": [
        ""
      ],
      "execution_count": 0,
      "outputs": []
    },
    {
      "metadata": {
        "id": "NeOgbyFx97x-",
        "colab_type": "code",
        "colab": {}
      },
      "cell_type": "code",
      "source": [
        ""
      ],
      "execution_count": 0,
      "outputs": []
    },
    {
      "metadata": {
        "id": "QSToN0O89TBe",
        "colab_type": "code",
        "colab": {}
      },
      "cell_type": "code",
      "source": [
        ""
      ],
      "execution_count": 0,
      "outputs": []
    },
    {
      "metadata": {
        "id": "7cx1MkHt9h0-",
        "colab_type": "code",
        "colab": {}
      },
      "cell_type": "code",
      "source": [
        ""
      ],
      "execution_count": 0,
      "outputs": []
    },
    {
      "metadata": {
        "id": "lIdD3tJ52k3C",
        "colab_type": "code",
        "colab": {}
      },
      "cell_type": "code",
      "source": [
        ""
      ],
      "execution_count": 0,
      "outputs": []
    },
    {
      "metadata": {
        "id": "5EizcIaS83zB",
        "colab_type": "code",
        "colab": {}
      },
      "cell_type": "code",
      "source": [
        ""
      ],
      "execution_count": 0,
      "outputs": []
    },
    {
      "metadata": {
        "id": "ulgZYgEL86LO",
        "colab_type": "code",
        "colab": {}
      },
      "cell_type": "code",
      "source": [
        ""
      ],
      "execution_count": 0,
      "outputs": []
    }
  ]
}