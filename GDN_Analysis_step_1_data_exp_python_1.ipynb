{
  "nbformat": 4,
  "nbformat_minor": 0,
  "metadata": {
    "colab": {
      "name": "GDN Analysis.step 1 - data_exp.python.1.ipynb",
      "version": "0.3.2",
      "provenance": [],
      "collapsed_sections": [],
      "toc_visible": true,
      "include_colab_link": true
    },
    "kernelspec": {
      "name": "python3",
      "display_name": "Python 3"
    }
  },
  "cells": [
    {
      "cell_type": "markdown",
      "metadata": {
        "id": "view-in-github",
        "colab_type": "text"
      },
      "source": [
        "<a href=\"https://colab.research.google.com/github/olivierlubet/IBM_advanced_datascience_Coursera_Capstone/blob/master/GDN_Analysis_step_1_data_exp_python_1.ipynb\" target=\"_parent\"><img src=\"https://colab.research.google.com/assets/colab-badge.svg\" alt=\"Open In Colab\"/></a>"
      ]
    },
    {
      "metadata": {
        "id": "b0xweQEjzjTp",
        "colab_type": "text"
      },
      "cell_type": "markdown",
      "source": [
        "# Grand Débat National - Data Exploration\n",
        "Open data are published under the following link : https://granddebat.fr/pages/donnees-ouvertes\n",
        "\n",
        "The following analyses focuses on the first an lightest file"
      ]
    },
    {
      "metadata": {
        "id": "UtYPlquYzibA",
        "colab_type": "code",
        "colab": {}
      },
      "cell_type": "code",
      "source": [
        ""
      ],
      "execution_count": 0,
      "outputs": []
    },
    {
      "metadata": {
        "id": "7zTBCFQB0Oi-",
        "colab_type": "text"
      },
      "cell_type": "markdown",
      "source": [
        "## Installing and importing required libraries "
      ]
    },
    {
      "metadata": {
        "id": "u55DYvgduYlU",
        "colab_type": "code",
        "colab": {}
      },
      "cell_type": "code",
      "source": [
        "import pandas as pd\n",
        "import matplotlib.pyplot as plt\n",
        "import seaborn as sns"
      ],
      "execution_count": 0,
      "outputs": []
    },
    {
      "metadata": {
        "id": "G7vUi-WiudpU",
        "colab_type": "code",
        "colab": {}
      },
      "cell_type": "code",
      "source": [
        ""
      ],
      "execution_count": 0,
      "outputs": []
    },
    {
      "metadata": {
        "id": "MLM3af640fGG",
        "colab_type": "text"
      },
      "cell_type": "markdown",
      "source": [
        "## Technical note\n",
        "It appeares that loading files json formatted into sparkresults in \"java out of memory\" whereas pandas smoothly parsed them. The following code will mainly rely on pandas"
      ]
    },
    {
      "metadata": {
        "id": "VGazGHIO2MeA",
        "colab_type": "code",
        "colab": {}
      },
      "cell_type": "code",
      "source": [
        ""
      ],
      "execution_count": 0,
      "outputs": []
    },
    {
      "metadata": {
        "id": "4NC6kiIT2NVo",
        "colab_type": "text"
      },
      "cell_type": "markdown",
      "source": [
        "# Description of the main model - questionnaire"
      ]
    },
    {
      "metadata": {
        "id": "3vGG6vvRvVMJ",
        "colab_type": "code",
        "colab": {}
      },
      "cell_type": "code",
      "source": [
        "df = pd.read_json('http://opendata.auth-6f31f706db6f4a24b55f42a6a79c5086.storage.sbg5.cloud.ovh.net/2019-01-31/LA_TRANSITION_ECOLOGIQUE.json')"
      ],
      "execution_count": 0,
      "outputs": []
    },
    {
      "metadata": {
        "id": "8vo0w0zA2WQR",
        "colab_type": "text"
      },
      "cell_type": "markdown",
      "source": [
        "## Fields"
      ]
    },
    {
      "metadata": {
        "id": "E9CpoMS9uhqQ",
        "colab_type": "code",
        "outputId": "3736799d-6981-44fd-b62f-f5592635a36c",
        "colab": {
          "base_uri": "https://localhost:8080/",
          "height": 221
        }
      },
      "cell_type": "code",
      "source": [
        "df.dtypes"
      ],
      "execution_count": 0,
      "outputs": [
        {
          "output_type": "execute_result",
          "data": {
            "text/plain": [
              "authorId         object\n",
              "authorType       object\n",
              "authorZipCode     int64\n",
              "createdAt        object\n",
              "publishedAt      object\n",
              "reference        object\n",
              "responses        object\n",
              "title            object\n",
              "trashed            bool\n",
              "trashedStatus    object\n",
              "updatedAt        object\n",
              "dtype: object"
            ]
          },
          "metadata": {
            "tags": []
          },
          "execution_count": 3
        }
      ]
    },
    {
      "metadata": {
        "id": "j-nz_weM2fQ1",
        "colab_type": "code",
        "outputId": "22022c09-9e23-481b-ed95-5aa73e454133",
        "colab": {
          "base_uri": "https://localhost:8080/",
          "height": 221
        }
      },
      "cell_type": "code",
      "source": [
        "for f in ['authorType','authorZipCode','title','trashedStatus']:\n",
        "  print(f,':',len(df[f].unique()),' ',df[f].unique())\n",
        "  print('---')"
      ],
      "execution_count": 0,
      "outputs": [
        {
          "output_type": "stream",
          "text": [
            "authorType : 5   ['Citoyen / Citoyenne' None 'Élu / élue et Institution'\n",
            " 'Organisation à but non lucratif' 'Organisation à but lucratif']\n",
            "---\n",
            "authorZipCode : 5325   [97231 57000 34140 ... 80210 13104 12410]\n",
            "---\n",
            "title : 30735   ['transition écologique' 'La surpopulation' 'climat' ...\n",
            " \"Réduire l'électricité\"\n",
            " \"Contraindre les entreprises à produire selon des normes respectueuses de l'environnement\"\n",
            " 'utilisation des diverses énergies']\n",
            "---\n",
            "trashedStatus : 2   [None 'VISIBLE']\n",
            "---\n"
          ],
          "name": "stdout"
        }
      ]
    },
    {
      "metadata": {
        "id": "qANLRZcE2ZRh",
        "colab_type": "text"
      },
      "cell_type": "markdown",
      "source": [
        "## Counts"
      ]
    },
    {
      "metadata": {
        "id": "noEw887L1Qnt",
        "colab_type": "code",
        "outputId": "3328d724-3b1b-4a5d-ab78-927ccc4ead8a",
        "colab": {
          "base_uri": "https://localhost:8080/",
          "height": 221
        }
      },
      "cell_type": "code",
      "source": [
        "df.count()"
      ],
      "execution_count": 0,
      "outputs": [
        {
          "output_type": "execute_result",
          "data": {
            "text/plain": [
              "authorId         35982\n",
              "authorType       34654\n",
              "authorZipCode    35982\n",
              "createdAt        35982\n",
              "publishedAt      35982\n",
              "reference        35982\n",
              "responses        35982\n",
              "title            35982\n",
              "trashed          35982\n",
              "trashedStatus        8\n",
              "updatedAt         1981\n",
              "dtype: int64"
            ]
          },
          "metadata": {
            "tags": []
          },
          "execution_count": 5
        }
      ]
    },
    {
      "metadata": {
        "id": "oesAbzsM3vg8",
        "colab_type": "text"
      },
      "cell_type": "markdown",
      "source": [
        "## Samples"
      ]
    },
    {
      "metadata": {
        "id": "HG9NCxxs1J9p",
        "colab_type": "code",
        "outputId": "c8a3a1c3-c7f0-4bdf-97fa-aa40d3490a29",
        "colab": {
          "base_uri": "https://localhost:8080/",
          "height": 244
        }
      },
      "cell_type": "code",
      "source": [
        "df.head(3)"
      ],
      "execution_count": 0,
      "outputs": [
        {
          "output_type": "execute_result",
          "data": {
            "text/html": [
              "<div>\n",
              "<style scoped>\n",
              "    .dataframe tbody tr th:only-of-type {\n",
              "        vertical-align: middle;\n",
              "    }\n",
              "\n",
              "    .dataframe tbody tr th {\n",
              "        vertical-align: top;\n",
              "    }\n",
              "\n",
              "    .dataframe thead th {\n",
              "        text-align: right;\n",
              "    }\n",
              "</style>\n",
              "<table border=\"1\" class=\"dataframe\">\n",
              "  <thead>\n",
              "    <tr style=\"text-align: right;\">\n",
              "      <th></th>\n",
              "      <th>authorId</th>\n",
              "      <th>authorType</th>\n",
              "      <th>authorZipCode</th>\n",
              "      <th>createdAt</th>\n",
              "      <th>publishedAt</th>\n",
              "      <th>reference</th>\n",
              "      <th>responses</th>\n",
              "      <th>title</th>\n",
              "      <th>trashed</th>\n",
              "      <th>trashedStatus</th>\n",
              "      <th>updatedAt</th>\n",
              "    </tr>\n",
              "  </thead>\n",
              "  <tbody>\n",
              "    <tr>\n",
              "      <th>0</th>\n",
              "      <td>VXNlcjoxMTQwMTc0YS0xZTFmLTExZTktOTRkMi1mYTE2M2...</td>\n",
              "      <td>Citoyen / Citoyenne</td>\n",
              "      <td>97231</td>\n",
              "      <td>2019-01-22 09:37:49</td>\n",
              "      <td>2019-01-22 09:37:49</td>\n",
              "      <td>2-4</td>\n",
              "      <td>[{'questionId': '160', 'questionTitle': 'Quel ...</td>\n",
              "      <td>transition écologique</td>\n",
              "      <td>False</td>\n",
              "      <td>None</td>\n",
              "      <td>None</td>\n",
              "    </tr>\n",
              "    <tr>\n",
              "      <th>1</th>\n",
              "      <td>VXNlcjpjOWYxZWQ1NS0xYzEwLTExZTktOTRkMi1mYTE2M2...</td>\n",
              "      <td>Citoyen / Citoyenne</td>\n",
              "      <td>57000</td>\n",
              "      <td>2019-01-22 09:39:33</td>\n",
              "      <td>2019-01-22 09:39:33</td>\n",
              "      <td>2-5</td>\n",
              "      <td>[{'questionId': '160', 'questionTitle': 'Quel ...</td>\n",
              "      <td>La surpopulation</td>\n",
              "      <td>False</td>\n",
              "      <td>None</td>\n",
              "      <td>None</td>\n",
              "    </tr>\n",
              "    <tr>\n",
              "      <th>2</th>\n",
              "      <td>VXNlcjozZjlhNzAwOS0xYTc2LTExZTktOTRkMi1mYTE2M2...</td>\n",
              "      <td>Citoyen / Citoyenne</td>\n",
              "      <td>34140</td>\n",
              "      <td>2019-01-22 09:39:50</td>\n",
              "      <td>2019-01-22 09:39:50</td>\n",
              "      <td>2-6</td>\n",
              "      <td>[{'questionId': '160', 'questionTitle': 'Quel ...</td>\n",
              "      <td>climat</td>\n",
              "      <td>False</td>\n",
              "      <td>None</td>\n",
              "      <td>None</td>\n",
              "    </tr>\n",
              "  </tbody>\n",
              "</table>\n",
              "</div>"
            ],
            "text/plain": [
              "                                            authorId           authorType  \\\n",
              "0  VXNlcjoxMTQwMTc0YS0xZTFmLTExZTktOTRkMi1mYTE2M2...  Citoyen / Citoyenne   \n",
              "1  VXNlcjpjOWYxZWQ1NS0xYzEwLTExZTktOTRkMi1mYTE2M2...  Citoyen / Citoyenne   \n",
              "2  VXNlcjozZjlhNzAwOS0xYTc2LTExZTktOTRkMi1mYTE2M2...  Citoyen / Citoyenne   \n",
              "\n",
              "   authorZipCode            createdAt          publishedAt reference  \\\n",
              "0          97231  2019-01-22 09:37:49  2019-01-22 09:37:49       2-4   \n",
              "1          57000  2019-01-22 09:39:33  2019-01-22 09:39:33       2-5   \n",
              "2          34140  2019-01-22 09:39:50  2019-01-22 09:39:50       2-6   \n",
              "\n",
              "                                           responses                  title  \\\n",
              "0  [{'questionId': '160', 'questionTitle': 'Quel ...  transition écologique   \n",
              "1  [{'questionId': '160', 'questionTitle': 'Quel ...       La surpopulation   \n",
              "2  [{'questionId': '160', 'questionTitle': 'Quel ...                 climat   \n",
              "\n",
              "   trashed trashedStatus updatedAt  \n",
              "0    False          None      None  \n",
              "1    False          None      None  \n",
              "2    False          None      None  "
            ]
          },
          "metadata": {
            "tags": []
          },
          "execution_count": 6
        }
      ]
    },
    {
      "metadata": {
        "id": "V5Kjg_zi4pa-",
        "colab_type": "text"
      },
      "cell_type": "markdown",
      "source": [
        "# Description of submodel - question & answers"
      ]
    },
    {
      "metadata": {
        "id": "sdXOPJXc5GqF",
        "colab_type": "text"
      },
      "cell_type": "markdown",
      "source": [
        "## Fields"
      ]
    },
    {
      "metadata": {
        "id": "SjkHagMQ9B35",
        "colab_type": "code",
        "outputId": "d7a23f2d-7e7a-45ec-cb2b-699db25934e8",
        "colab": {
          "base_uri": "https://localhost:8080/",
          "height": 102
        }
      },
      "cell_type": "code",
      "source": [
        "list_rep = [item for sublist in df.responses.tolist() for item in sublist]\n",
        "df_rep = pd.DataFrame(list_rep)\n",
        "df_rep.dtypes"
      ],
      "execution_count": 0,
      "outputs": [
        {
          "output_type": "execute_result",
          "data": {
            "text/plain": [
              "formattedValue    object\n",
              "questionId        object\n",
              "questionTitle     object\n",
              "value             object\n",
              "dtype: object"
            ]
          },
          "metadata": {
            "tags": []
          },
          "execution_count": 7
        }
      ]
    },
    {
      "metadata": {
        "id": "WPtf41jv5O3P",
        "colab_type": "text"
      },
      "cell_type": "markdown",
      "source": [
        "## Samples"
      ]
    },
    {
      "metadata": {
        "id": "o7Oe1SKe5PUP",
        "colab_type": "code",
        "outputId": "d13a3177-2832-4418-e0a4-ea4f5761f070",
        "colab": {
          "base_uri": "https://localhost:8080/",
          "height": 204
        }
      },
      "cell_type": "code",
      "source": [
        "df_rep.head(5)"
      ],
      "execution_count": 0,
      "outputs": [
        {
          "output_type": "execute_result",
          "data": {
            "text/html": [
              "<div>\n",
              "<style scoped>\n",
              "    .dataframe tbody tr th:only-of-type {\n",
              "        vertical-align: middle;\n",
              "    }\n",
              "\n",
              "    .dataframe tbody tr th {\n",
              "        vertical-align: top;\n",
              "    }\n",
              "\n",
              "    .dataframe thead th {\n",
              "        text-align: right;\n",
              "    }\n",
              "</style>\n",
              "<table border=\"1\" class=\"dataframe\">\n",
              "  <thead>\n",
              "    <tr style=\"text-align: right;\">\n",
              "      <th></th>\n",
              "      <th>formattedValue</th>\n",
              "      <th>questionId</th>\n",
              "      <th>questionTitle</th>\n",
              "      <th>value</th>\n",
              "    </tr>\n",
              "  </thead>\n",
              "  <tbody>\n",
              "    <tr>\n",
              "      <th>0</th>\n",
              "      <td></td>\n",
              "      <td>160</td>\n",
              "      <td>Quel est aujourd'hui pour vous le problème con...</td>\n",
              "      <td>{\"labels\":[],\"other\":null}</td>\n",
              "    </tr>\n",
              "    <tr>\n",
              "      <th>1</th>\n",
              "      <td>None</td>\n",
              "      <td>161</td>\n",
              "      <td>Que faudrait-il faire selon vous pour apporter...</td>\n",
              "      <td>None</td>\n",
              "    </tr>\n",
              "    <tr>\n",
              "      <th>2</th>\n",
              "      <td></td>\n",
              "      <td>146</td>\n",
              "      <td>Diriez-vous que votre vie quotidienne est aujo...</td>\n",
              "      <td>{\"labels\":[],\"other\":null}</td>\n",
              "    </tr>\n",
              "    <tr>\n",
              "      <th>3</th>\n",
              "      <td>None</td>\n",
              "      <td>147</td>\n",
              "      <td>Si oui, de quelle manière votre vie quotidienn...</td>\n",
              "      <td>None</td>\n",
              "    </tr>\n",
              "    <tr>\n",
              "      <th>4</th>\n",
              "      <td></td>\n",
              "      <td>148</td>\n",
              "      <td>À titre personnel, pensez-vous pouvoir contrib...</td>\n",
              "      <td>{\"labels\":[],\"other\":null}</td>\n",
              "    </tr>\n",
              "  </tbody>\n",
              "</table>\n",
              "</div>"
            ],
            "text/plain": [
              "  formattedValue questionId  \\\n",
              "0                       160   \n",
              "1           None        161   \n",
              "2                       146   \n",
              "3           None        147   \n",
              "4                       148   \n",
              "\n",
              "                                       questionTitle  \\\n",
              "0  Quel est aujourd'hui pour vous le problème con...   \n",
              "1  Que faudrait-il faire selon vous pour apporter...   \n",
              "2  Diriez-vous que votre vie quotidienne est aujo...   \n",
              "3  Si oui, de quelle manière votre vie quotidienn...   \n",
              "4  À titre personnel, pensez-vous pouvoir contrib...   \n",
              "\n",
              "                        value  \n",
              "0  {\"labels\":[],\"other\":null}  \n",
              "1                        None  \n",
              "2  {\"labels\":[],\"other\":null}  \n",
              "3                        None  \n",
              "4  {\"labels\":[],\"other\":null}  "
            ]
          },
          "metadata": {
            "tags": []
          },
          "execution_count": 8
        }
      ]
    },
    {
      "metadata": {
        "id": "gE8B2GxJ5f0s",
        "colab_type": "text"
      },
      "cell_type": "markdown",
      "source": [
        "## Filtered samples"
      ]
    },
    {
      "metadata": {
        "id": "nuK9MCWKuqMt",
        "colab_type": "code",
        "colab": {}
      },
      "cell_type": "code",
      "source": [
        "filter = (df_rep.formattedValue.notnull()) & (df_rep.formattedValue!='') \n",
        "df_rep_f = df_rep[filter]"
      ],
      "execution_count": 0,
      "outputs": []
    },
    {
      "metadata": {
        "id": "dQd2O0sW_M2N",
        "colab_type": "code",
        "outputId": "56b07e48-14fb-4e97-fd52-bb62125479aa",
        "colab": {
          "base_uri": "https://localhost:8080/",
          "height": 204
        }
      },
      "cell_type": "code",
      "source": [
        "df_rep_f.head(5)"
      ],
      "execution_count": 0,
      "outputs": [
        {
          "output_type": "execute_result",
          "data": {
            "text/html": [
              "<div>\n",
              "<style scoped>\n",
              "    .dataframe tbody tr th:only-of-type {\n",
              "        vertical-align: middle;\n",
              "    }\n",
              "\n",
              "    .dataframe tbody tr th {\n",
              "        vertical-align: top;\n",
              "    }\n",
              "\n",
              "    .dataframe thead th {\n",
              "        text-align: right;\n",
              "    }\n",
              "</style>\n",
              "<table border=\"1\" class=\"dataframe\">\n",
              "  <thead>\n",
              "    <tr style=\"text-align: right;\">\n",
              "      <th></th>\n",
              "      <th>formattedValue</th>\n",
              "      <th>questionId</th>\n",
              "      <th>questionTitle</th>\n",
              "      <th>value</th>\n",
              "    </tr>\n",
              "  </thead>\n",
              "  <tbody>\n",
              "    <tr>\n",
              "      <th>14</th>\n",
              "      <td>Enseignement du tri sélectif à l'école</td>\n",
              "      <td>158</td>\n",
              "      <td>Que pourrait faire la France pour faire partag...</td>\n",
              "      <td>Enseignement du tri sélectif à l'école</td>\n",
              "    </tr>\n",
              "    <tr>\n",
              "      <th>15</th>\n",
              "      <td>Multiplier les centrales géothermiques</td>\n",
              "      <td>159</td>\n",
              "      <td>Y a-t-il d'autres points sur la transition éco...</td>\n",
              "      <td>Multiplier les centrales géothermiques</td>\n",
              "    </tr>\n",
              "    <tr>\n",
              "      <th>16</th>\n",
              "      <td>Les problèmes auxquels se trouve confronté l’e...</td>\n",
              "      <td>160</td>\n",
              "      <td>Quel est aujourd'hui pour vous le problème con...</td>\n",
              "      <td>{\"labels\":[],\"other\":\"Les problèmes auxquels s...</td>\n",
              "    </tr>\n",
              "    <tr>\n",
              "      <th>17</th>\n",
              "      <td>Les problèmes auxquels se trouve confronté l’e...</td>\n",
              "      <td>161</td>\n",
              "      <td>Que faudrait-il faire selon vous pour apporter...</td>\n",
              "      <td>Les problèmes auxquels se trouve confronté l’e...</td>\n",
              "    </tr>\n",
              "    <tr>\n",
              "      <th>30</th>\n",
              "      <td>Mettre en oeuvre au niveau national ses engage...</td>\n",
              "      <td>158</td>\n",
              "      <td>Que pourrait faire la France pour faire partag...</td>\n",
              "      <td>Mettre en oeuvre au niveau national ses engage...</td>\n",
              "    </tr>\n",
              "  </tbody>\n",
              "</table>\n",
              "</div>"
            ],
            "text/plain": [
              "                                       formattedValue questionId  \\\n",
              "14             Enseignement du tri sélectif à l'école        158   \n",
              "15             Multiplier les centrales géothermiques        159   \n",
              "16  Les problèmes auxquels se trouve confronté l’e...        160   \n",
              "17  Les problèmes auxquels se trouve confronté l’e...        161   \n",
              "30  Mettre en oeuvre au niveau national ses engage...        158   \n",
              "\n",
              "                                        questionTitle  \\\n",
              "14  Que pourrait faire la France pour faire partag...   \n",
              "15  Y a-t-il d'autres points sur la transition éco...   \n",
              "16  Quel est aujourd'hui pour vous le problème con...   \n",
              "17  Que faudrait-il faire selon vous pour apporter...   \n",
              "30  Que pourrait faire la France pour faire partag...   \n",
              "\n",
              "                                                value  \n",
              "14             Enseignement du tri sélectif à l'école  \n",
              "15             Multiplier les centrales géothermiques  \n",
              "16  {\"labels\":[],\"other\":\"Les problèmes auxquels s...  \n",
              "17  Les problèmes auxquels se trouve confronté l’e...  \n",
              "30  Mettre en oeuvre au niveau national ses engage...  "
            ]
          },
          "metadata": {
            "tags": []
          },
          "execution_count": 10
        }
      ]
    },
    {
      "metadata": {
        "id": "Y_xTqNtD_TPe",
        "colab_type": "code",
        "colab": {}
      },
      "cell_type": "code",
      "source": [
        "filter = (df_rep.formattedValue.notnull()) & (df_rep.formattedValue!='')  & (df_rep.formattedValue!='Oui') & (df_rep.formattedValue!='Non') \n",
        "df_rep_ff = df_rep[filter][['questionTitle','formattedValue']].reset_index()"
      ],
      "execution_count": 0,
      "outputs": []
    },
    {
      "metadata": {
        "id": "JuthnT1j6xxR",
        "colab_type": "code",
        "colab": {}
      },
      "cell_type": "code",
      "source": [
        ""
      ],
      "execution_count": 0,
      "outputs": []
    },
    {
      "metadata": {
        "id": "n58M0Akjo0_M",
        "colab_type": "code",
        "outputId": "1ea7d5b1-1cf1-41d8-b2fd-443207bb1e32",
        "colab": {
          "base_uri": "https://localhost:8080/",
          "height": 359
        }
      },
      "cell_type": "code",
      "source": [
        "df_rep_ff.head(10)"
      ],
      "execution_count": 0,
      "outputs": [
        {
          "output_type": "execute_result",
          "data": {
            "text/html": [
              "<div>\n",
              "<style scoped>\n",
              "    .dataframe tbody tr th:only-of-type {\n",
              "        vertical-align: middle;\n",
              "    }\n",
              "\n",
              "    .dataframe tbody tr th {\n",
              "        vertical-align: top;\n",
              "    }\n",
              "\n",
              "    .dataframe thead th {\n",
              "        text-align: right;\n",
              "    }\n",
              "</style>\n",
              "<table border=\"1\" class=\"dataframe\">\n",
              "  <thead>\n",
              "    <tr style=\"text-align: right;\">\n",
              "      <th></th>\n",
              "      <th>index</th>\n",
              "      <th>questionTitle</th>\n",
              "      <th>formattedValue</th>\n",
              "    </tr>\n",
              "  </thead>\n",
              "  <tbody>\n",
              "    <tr>\n",
              "      <th>0</th>\n",
              "      <td>14</td>\n",
              "      <td>Que pourrait faire la France pour faire partag...</td>\n",
              "      <td>Enseignement du tri sélectif à l'école</td>\n",
              "    </tr>\n",
              "    <tr>\n",
              "      <th>1</th>\n",
              "      <td>15</td>\n",
              "      <td>Y a-t-il d'autres points sur la transition éco...</td>\n",
              "      <td>Multiplier les centrales géothermiques</td>\n",
              "    </tr>\n",
              "    <tr>\n",
              "      <th>2</th>\n",
              "      <td>16</td>\n",
              "      <td>Quel est aujourd'hui pour vous le problème con...</td>\n",
              "      <td>Les problèmes auxquels se trouve confronté l’e...</td>\n",
              "    </tr>\n",
              "    <tr>\n",
              "      <th>3</th>\n",
              "      <td>17</td>\n",
              "      <td>Que faudrait-il faire selon vous pour apporter...</td>\n",
              "      <td>Les problèmes auxquels se trouve confronté l’e...</td>\n",
              "    </tr>\n",
              "    <tr>\n",
              "      <th>4</th>\n",
              "      <td>30</td>\n",
              "      <td>Que pourrait faire la France pour faire partag...</td>\n",
              "      <td>Mettre en oeuvre au niveau national ses engage...</td>\n",
              "    </tr>\n",
              "    <tr>\n",
              "      <th>5</th>\n",
              "      <td>31</td>\n",
              "      <td>Y a-t-il d'autres points sur la transition éco...</td>\n",
              "      <td>Les problèmes auxquels se trouve confronté l’e...</td>\n",
              "    </tr>\n",
              "    <tr>\n",
              "      <th>6</th>\n",
              "      <td>32</td>\n",
              "      <td>Quel est aujourd'hui pour vous le problème con...</td>\n",
              "      <td>Les dérèglements climatiques (crue, sécheresse)</td>\n",
              "    </tr>\n",
              "    <tr>\n",
              "      <th>7</th>\n",
              "      <td>33</td>\n",
              "      <td>Que faudrait-il faire selon vous pour apporter...</td>\n",
              "      <td>pour éviter les inondations obliger les rivera...</td>\n",
              "    </tr>\n",
              "    <tr>\n",
              "      <th>8</th>\n",
              "      <td>38</td>\n",
              "      <td>Qu'est-ce qui pourrait vous inciter à changer ...</td>\n",
              "      <td>développer  les transports en commun ,</td>\n",
              "    </tr>\n",
              "    <tr>\n",
              "      <th>9</th>\n",
              "      <td>44</td>\n",
              "      <td>Si non, quelles sont les solutions de mobilité...</td>\n",
              "      <td>Les transports en commun, L'auto partage, Le t...</td>\n",
              "    </tr>\n",
              "  </tbody>\n",
              "</table>\n",
              "</div>"
            ],
            "text/plain": [
              "   index                                      questionTitle  \\\n",
              "0     14  Que pourrait faire la France pour faire partag...   \n",
              "1     15  Y a-t-il d'autres points sur la transition éco...   \n",
              "2     16  Quel est aujourd'hui pour vous le problème con...   \n",
              "3     17  Que faudrait-il faire selon vous pour apporter...   \n",
              "4     30  Que pourrait faire la France pour faire partag...   \n",
              "5     31  Y a-t-il d'autres points sur la transition éco...   \n",
              "6     32  Quel est aujourd'hui pour vous le problème con...   \n",
              "7     33  Que faudrait-il faire selon vous pour apporter...   \n",
              "8     38  Qu'est-ce qui pourrait vous inciter à changer ...   \n",
              "9     44  Si non, quelles sont les solutions de mobilité...   \n",
              "\n",
              "                                      formattedValue  \n",
              "0             Enseignement du tri sélectif à l'école  \n",
              "1             Multiplier les centrales géothermiques  \n",
              "2  Les problèmes auxquels se trouve confronté l’e...  \n",
              "3  Les problèmes auxquels se trouve confronté l’e...  \n",
              "4  Mettre en oeuvre au niveau national ses engage...  \n",
              "5  Les problèmes auxquels se trouve confronté l’e...  \n",
              "6    Les dérèglements climatiques (crue, sécheresse)  \n",
              "7  pour éviter les inondations obliger les rivera...  \n",
              "8             développer  les transports en commun ,  \n",
              "9  Les transports en commun, L'auto partage, Le t...  "
            ]
          },
          "metadata": {
            "tags": []
          },
          "execution_count": 12
        }
      ]
    },
    {
      "metadata": {
        "id": "D8AKVTW35oIC",
        "colab_type": "text"
      },
      "cell_type": "markdown",
      "source": [
        "## Counts"
      ]
    },
    {
      "metadata": {
        "id": "DKetIPnk5sw3",
        "colab_type": "code",
        "outputId": "b087f9d3-d1a2-4ae0-e5a3-c0d2b2f62b9a",
        "colab": {
          "base_uri": "https://localhost:8080/",
          "height": 85
        }
      },
      "cell_type": "code",
      "source": [
        "print('Number of answers:',len(df_rep))\n",
        "print('Number of filtered answers:',len(df_rep_f))\n",
        "print('Number of filtered answers (without \"Oui\" or \"Non\"):',len(df_rep_ff))\n",
        "print('Number of unique questions:',len(df_rep.questionTitle.unique()))"
      ],
      "execution_count": 0,
      "outputs": [
        {
          "output_type": "stream",
          "text": [
            "Number of answers: 575712\n",
            "Number of filtered answers: 439008\n",
            "Number of filtered answers (without \"Oui\" or \"Non\"): 315721\n",
            "Number of unique questions: 16\n"
          ],
          "name": "stdout"
        }
      ]
    },
    {
      "metadata": {
        "id": "89DYD5ntujc9",
        "colab_type": "text"
      },
      "cell_type": "markdown",
      "source": [
        "# Some other analysis\n",
        "## Number of answers by questions"
      ]
    },
    {
      "metadata": {
        "id": "BmkW1vY76J46",
        "colab_type": "code",
        "outputId": "76f239e8-0cb9-47b4-da1f-bd8c631d0c17",
        "colab": {
          "base_uri": "https://localhost:8080/",
          "height": 452
        }
      },
      "cell_type": "code",
      "source": [
        "dt_chart_categories = (pd.DataFrame(\n",
        "    df_rep_ff.groupby('questionTitle')\n",
        "    .formattedValue.nunique())\n",
        "                       .rename(columns={'formattedValue':'count'})\n",
        "                       .sort_values(by='count', ascending=False)\n",
        "                       .reset_index()\n",
        "                      )\n",
        "dt_chart_categories['index'] = dt_chart_categories.index\n",
        "dt_chart_categories.head(20)"
      ],
      "execution_count": 0,
      "outputs": [
        {
          "output_type": "execute_result",
          "data": {
            "text/html": [
              "<div>\n",
              "<style scoped>\n",
              "    .dataframe tbody tr th:only-of-type {\n",
              "        vertical-align: middle;\n",
              "    }\n",
              "\n",
              "    .dataframe tbody tr th {\n",
              "        vertical-align: top;\n",
              "    }\n",
              "\n",
              "    .dataframe thead th {\n",
              "        text-align: right;\n",
              "    }\n",
              "</style>\n",
              "<table border=\"1\" class=\"dataframe\">\n",
              "  <thead>\n",
              "    <tr style=\"text-align: right;\">\n",
              "      <th></th>\n",
              "      <th>questionTitle</th>\n",
              "      <th>count</th>\n",
              "      <th>index</th>\n",
              "    </tr>\n",
              "  </thead>\n",
              "  <tbody>\n",
              "    <tr>\n",
              "      <th>0</th>\n",
              "      <td>Que faudrait-il faire selon vous pour apporter...</td>\n",
              "      <td>32047</td>\n",
              "      <td>0</td>\n",
              "    </tr>\n",
              "    <tr>\n",
              "      <th>1</th>\n",
              "      <td>Si oui, que faites-vous aujourd'hui pour proté...</td>\n",
              "      <td>30227</td>\n",
              "      <td>1</td>\n",
              "    </tr>\n",
              "    <tr>\n",
              "      <th>2</th>\n",
              "      <td>Qu'est-ce qui pourrait vous inciter à changer ...</td>\n",
              "      <td>26712</td>\n",
              "      <td>2</td>\n",
              "    </tr>\n",
              "    <tr>\n",
              "      <th>3</th>\n",
              "      <td>Que pourrait faire la France pour faire partag...</td>\n",
              "      <td>25164</td>\n",
              "      <td>3</td>\n",
              "    </tr>\n",
              "    <tr>\n",
              "      <th>4</th>\n",
              "      <td>Y a-t-il d'autres points sur la transition éco...</td>\n",
              "      <td>24094</td>\n",
              "      <td>4</td>\n",
              "    </tr>\n",
              "    <tr>\n",
              "      <th>5</th>\n",
              "      <td>Quelles seraient pour vous les solutions les p...</td>\n",
              "      <td>23765</td>\n",
              "      <td>5</td>\n",
              "    </tr>\n",
              "    <tr>\n",
              "      <th>6</th>\n",
              "      <td>Si oui, de quelle manière votre vie quotidienn...</td>\n",
              "      <td>19954</td>\n",
              "      <td>6</td>\n",
              "    </tr>\n",
              "    <tr>\n",
              "      <th>7</th>\n",
              "      <td>Si oui, que faudrait-il faire pour vous convai...</td>\n",
              "      <td>18884</td>\n",
              "      <td>7</td>\n",
              "    </tr>\n",
              "    <tr>\n",
              "      <th>8</th>\n",
              "      <td>Et qui doit selon vous se charger de vous prop...</td>\n",
              "      <td>18742</td>\n",
              "      <td>8</td>\n",
              "    </tr>\n",
              "    <tr>\n",
              "      <th>9</th>\n",
              "      <td>Si oui, que faudrait-il faire pour vous convai...</td>\n",
              "      <td>15863</td>\n",
              "      <td>9</td>\n",
              "    </tr>\n",
              "    <tr>\n",
              "      <th>10</th>\n",
              "      <td>Quel est aujourd'hui pour vous le problème con...</td>\n",
              "      <td>10157</td>\n",
              "      <td>10</td>\n",
              "    </tr>\n",
              "    <tr>\n",
              "      <th>11</th>\n",
              "      <td>Si non, quelles sont les solutions de mobilité...</td>\n",
              "      <td>6207</td>\n",
              "      <td>11</td>\n",
              "    </tr>\n",
              "    <tr>\n",
              "      <th>12</th>\n",
              "      <td>Avez-vous pour vos déplacements quotidiens la ...</td>\n",
              "      <td>1</td>\n",
              "      <td>12</td>\n",
              "    </tr>\n",
              "  </tbody>\n",
              "</table>\n",
              "</div>"
            ],
            "text/plain": [
              "                                        questionTitle  count  index\n",
              "0   Que faudrait-il faire selon vous pour apporter...  32047      0\n",
              "1   Si oui, que faites-vous aujourd'hui pour proté...  30227      1\n",
              "2   Qu'est-ce qui pourrait vous inciter à changer ...  26712      2\n",
              "3   Que pourrait faire la France pour faire partag...  25164      3\n",
              "4   Y a-t-il d'autres points sur la transition éco...  24094      4\n",
              "5   Quelles seraient pour vous les solutions les p...  23765      5\n",
              "6   Si oui, de quelle manière votre vie quotidienn...  19954      6\n",
              "7   Si oui, que faudrait-il faire pour vous convai...  18884      7\n",
              "8   Et qui doit selon vous se charger de vous prop...  18742      8\n",
              "9   Si oui, que faudrait-il faire pour vous convai...  15863      9\n",
              "10  Quel est aujourd'hui pour vous le problème con...  10157     10\n",
              "11  Si non, quelles sont les solutions de mobilité...   6207     11\n",
              "12  Avez-vous pour vos déplacements quotidiens la ...      1     12"
            ]
          },
          "metadata": {
            "tags": []
          },
          "execution_count": 14
        }
      ]
    },
    {
      "metadata": {
        "id": "SpD7nE7hp5Su",
        "colab_type": "code",
        "colab": {}
      },
      "cell_type": "code",
      "source": [
        ""
      ],
      "execution_count": 0,
      "outputs": []
    },
    {
      "metadata": {
        "id": "esfwj2S-ptQe",
        "colab_type": "code",
        "colab": {}
      },
      "cell_type": "code",
      "source": [
        "import seaborn as sns"
      ],
      "execution_count": 0,
      "outputs": []
    },
    {
      "metadata": {
        "id": "p1MCeTk-pwQW",
        "colab_type": "code",
        "outputId": "84184e78-b14f-4f73-ab7b-78e79e6c06cf",
        "colab": {
          "base_uri": "https://localhost:8080/",
          "height": 657
        }
      },
      "cell_type": "code",
      "source": [
        "plt.figure(figsize=(15,10))\n",
        "sns.barplot(data=dt_chart_categories, x='index', y='count')\n"
      ],
      "execution_count": 0,
      "outputs": [
        {
          "output_type": "stream",
          "text": [
            "/usr/local/lib/python3.6/dist-packages/seaborn/categorical.py:1428: FutureWarning: remove_na is deprecated and is a private function. Do not use.\n",
            "  stat_data = remove_na(group_data)\n"
          ],
          "name": "stderr"
        },
        {
          "output_type": "execute_result",
          "data": {
            "text/plain": [
              "<matplotlib.axes._subplots.AxesSubplot at 0x7f60fbe77f98>"
            ]
          },
          "metadata": {
            "tags": []
          },
          "execution_count": 37
        },
        {
          "output_type": "display_data",
          "data": {
            "image/png": "[encoded data removed]",
            "text/plain": [
              "<Figure size 1080x720 with 1 Axes>"
            ]
          },
          "metadata": {
            "tags": []
          }
        }
      ]
    },
    {
      "metadata": {
        "id": "NH4MWb3AuwPv",
        "colab_type": "text"
      },
      "cell_type": "markdown",
      "source": [
        "## Size of answers"
      ]
    },
    {
      "metadata": {
        "id": "QI_rGWyBrIyO",
        "colab_type": "code",
        "outputId": "f4e6f640-ebda-4a60-af99-1dc1239fef18",
        "colab": {
          "base_uri": "https://localhost:8080/",
          "height": 204
        }
      },
      "cell_type": "code",
      "source": [
        "df_rep_ff.head(5)"
      ],
      "execution_count": 0,
      "outputs": [
        {
          "output_type": "execute_result",
          "data": {
            "text/html": [
              "<div>\n",
              "<style scoped>\n",
              "    .dataframe tbody tr th:only-of-type {\n",
              "        vertical-align: middle;\n",
              "    }\n",
              "\n",
              "    .dataframe tbody tr th {\n",
              "        vertical-align: top;\n",
              "    }\n",
              "\n",
              "    .dataframe thead th {\n",
              "        text-align: right;\n",
              "    }\n",
              "</style>\n",
              "<table border=\"1\" class=\"dataframe\">\n",
              "  <thead>\n",
              "    <tr style=\"text-align: right;\">\n",
              "      <th></th>\n",
              "      <th>index</th>\n",
              "      <th>questionTitle</th>\n",
              "      <th>formattedValue</th>\n",
              "    </tr>\n",
              "  </thead>\n",
              "  <tbody>\n",
              "    <tr>\n",
              "      <th>0</th>\n",
              "      <td>14</td>\n",
              "      <td>Que pourrait faire la France pour faire partag...</td>\n",
              "      <td>Enseignement du tri sélectif à l'école</td>\n",
              "    </tr>\n",
              "    <tr>\n",
              "      <th>1</th>\n",
              "      <td>15</td>\n",
              "      <td>Y a-t-il d'autres points sur la transition éco...</td>\n",
              "      <td>Multiplier les centrales géothermiques</td>\n",
              "    </tr>\n",
              "    <tr>\n",
              "      <th>2</th>\n",
              "      <td>16</td>\n",
              "      <td>Quel est aujourd'hui pour vous le problème con...</td>\n",
              "      <td>Les problèmes auxquels se trouve confronté l’e...</td>\n",
              "    </tr>\n",
              "    <tr>\n",
              "      <th>3</th>\n",
              "      <td>17</td>\n",
              "      <td>Que faudrait-il faire selon vous pour apporter...</td>\n",
              "      <td>Les problèmes auxquels se trouve confronté l’e...</td>\n",
              "    </tr>\n",
              "    <tr>\n",
              "      <th>4</th>\n",
              "      <td>30</td>\n",
              "      <td>Que pourrait faire la France pour faire partag...</td>\n",
              "      <td>Mettre en oeuvre au niveau national ses engage...</td>\n",
              "    </tr>\n",
              "  </tbody>\n",
              "</table>\n",
              "</div>"
            ],
            "text/plain": [
              "   index                                      questionTitle  \\\n",
              "0     14  Que pourrait faire la France pour faire partag...   \n",
              "1     15  Y a-t-il d'autres points sur la transition éco...   \n",
              "2     16  Quel est aujourd'hui pour vous le problème con...   \n",
              "3     17  Que faudrait-il faire selon vous pour apporter...   \n",
              "4     30  Que pourrait faire la France pour faire partag...   \n",
              "\n",
              "                                      formattedValue  \n",
              "0             Enseignement du tri sélectif à l'école  \n",
              "1             Multiplier les centrales géothermiques  \n",
              "2  Les problèmes auxquels se trouve confronté l’e...  \n",
              "3  Les problèmes auxquels se trouve confronté l’e...  \n",
              "4  Mettre en oeuvre au niveau national ses engage...  "
            ]
          },
          "metadata": {
            "tags": []
          },
          "execution_count": 18
        }
      ]
    },
    {
      "metadata": {
        "id": "6Gk4CK-yugRO",
        "colab_type": "code",
        "outputId": "8d1ac9e5-8634-4648-f000-bf8d7c7bb4ab",
        "colab": {
          "base_uri": "https://localhost:8080/",
          "height": 204
        }
      },
      "cell_type": "code",
      "source": [
        "df_rep_ff['len'] = df_rep_ff['formattedValue'].map(len)\n",
        "df_rep_ff.head(5)"
      ],
      "execution_count": 0,
      "outputs": [
        {
          "output_type": "execute_result",
          "data": {
            "text/html": [
              "<div>\n",
              "<style scoped>\n",
              "    .dataframe tbody tr th:only-of-type {\n",
              "        vertical-align: middle;\n",
              "    }\n",
              "\n",
              "    .dataframe tbody tr th {\n",
              "        vertical-align: top;\n",
              "    }\n",
              "\n",
              "    .dataframe thead th {\n",
              "        text-align: right;\n",
              "    }\n",
              "</style>\n",
              "<table border=\"1\" class=\"dataframe\">\n",
              "  <thead>\n",
              "    <tr style=\"text-align: right;\">\n",
              "      <th></th>\n",
              "      <th>index</th>\n",
              "      <th>questionTitle</th>\n",
              "      <th>formattedValue</th>\n",
              "      <th>len</th>\n",
              "    </tr>\n",
              "  </thead>\n",
              "  <tbody>\n",
              "    <tr>\n",
              "      <th>0</th>\n",
              "      <td>14</td>\n",
              "      <td>Que pourrait faire la France pour faire partag...</td>\n",
              "      <td>Enseignement du tri sélectif à l'école</td>\n",
              "      <td>38</td>\n",
              "    </tr>\n",
              "    <tr>\n",
              "      <th>1</th>\n",
              "      <td>15</td>\n",
              "      <td>Y a-t-il d'autres points sur la transition éco...</td>\n",
              "      <td>Multiplier les centrales géothermiques</td>\n",
              "      <td>38</td>\n",
              "    </tr>\n",
              "    <tr>\n",
              "      <th>2</th>\n",
              "      <td>16</td>\n",
              "      <td>Quel est aujourd'hui pour vous le problème con...</td>\n",
              "      <td>Les problèmes auxquels se trouve confronté l’e...</td>\n",
              "      <td>1289</td>\n",
              "    </tr>\n",
              "    <tr>\n",
              "      <th>3</th>\n",
              "      <td>17</td>\n",
              "      <td>Que faudrait-il faire selon vous pour apporter...</td>\n",
              "      <td>Les problèmes auxquels se trouve confronté l’e...</td>\n",
              "      <td>1289</td>\n",
              "    </tr>\n",
              "    <tr>\n",
              "      <th>4</th>\n",
              "      <td>30</td>\n",
              "      <td>Que pourrait faire la France pour faire partag...</td>\n",
              "      <td>Mettre en oeuvre au niveau national ses engage...</td>\n",
              "      <td>66</td>\n",
              "    </tr>\n",
              "  </tbody>\n",
              "</table>\n",
              "</div>"
            ],
            "text/plain": [
              "   index                                      questionTitle  \\\n",
              "0     14  Que pourrait faire la France pour faire partag...   \n",
              "1     15  Y a-t-il d'autres points sur la transition éco...   \n",
              "2     16  Quel est aujourd'hui pour vous le problème con...   \n",
              "3     17  Que faudrait-il faire selon vous pour apporter...   \n",
              "4     30  Que pourrait faire la France pour faire partag...   \n",
              "\n",
              "                                      formattedValue   len  \n",
              "0             Enseignement du tri sélectif à l'école    38  \n",
              "1             Multiplier les centrales géothermiques    38  \n",
              "2  Les problèmes auxquels se trouve confronté l’e...  1289  \n",
              "3  Les problèmes auxquels se trouve confronté l’e...  1289  \n",
              "4  Mettre en oeuvre au niveau national ses engage...    66  "
            ]
          },
          "metadata": {
            "tags": []
          },
          "execution_count": 19
        }
      ]
    },
    {
      "metadata": {
        "id": "EPjhsZurw-hm",
        "colab_type": "code",
        "outputId": "b2bdd1a5-7562-4f6f-f501-35c69510eda0",
        "colab": {
          "base_uri": "https://localhost:8080/",
          "height": 359
        }
      },
      "cell_type": "code",
      "source": [
        "def len_size(l):\n",
        "  if l < 10 : return 'XS'\n",
        "  elif l < 100 : return 'S'\n",
        "  elif l < 500 : return 'M'\n",
        "  elif l < 2000 : return 'L'\n",
        "  else : return 'XL'\n",
        "\n",
        "df_rep_ff['size'] = df_rep_ff['len'].map(len_size)\n",
        "df_rep_ff.sample(10).head(10)"
      ],
      "execution_count": 0,
      "outputs": [
        {
          "output_type": "execute_result",
          "data": {
            "text/html": [
              "<div>\n",
              "<style scoped>\n",
              "    .dataframe tbody tr th:only-of-type {\n",
              "        vertical-align: middle;\n",
              "    }\n",
              "\n",
              "    .dataframe tbody tr th {\n",
              "        vertical-align: top;\n",
              "    }\n",
              "\n",
              "    .dataframe thead th {\n",
              "        text-align: right;\n",
              "    }\n",
              "</style>\n",
              "<table border=\"1\" class=\"dataframe\">\n",
              "  <thead>\n",
              "    <tr style=\"text-align: right;\">\n",
              "      <th></th>\n",
              "      <th>index</th>\n",
              "      <th>questionTitle</th>\n",
              "      <th>formattedValue</th>\n",
              "      <th>len</th>\n",
              "      <th>size</th>\n",
              "    </tr>\n",
              "  </thead>\n",
              "  <tbody>\n",
              "    <tr>\n",
              "      <th>100384</th>\n",
              "      <td>183201</td>\n",
              "      <td>Que faudrait-il faire selon vous pour apporter...</td>\n",
              "      <td>Trop d'entreprises polluantes et on entend ne ...</td>\n",
              "      <td>347</td>\n",
              "      <td>M</td>\n",
              "    </tr>\n",
              "    <tr>\n",
              "      <th>10316</th>\n",
              "      <td>19401</td>\n",
              "      <td>Si oui, que faudrait-il faire pour vous convai...</td>\n",
              "      <td>Je me chauffe à électricité. \\nDonner les moye...</td>\n",
              "      <td>127</td>\n",
              "      <td>M</td>\n",
              "    </tr>\n",
              "    <tr>\n",
              "      <th>36143</th>\n",
              "      <td>66844</td>\n",
              "      <td>Si non, quelles sont les solutions de mobilité...</td>\n",
              "      <td>Le vélo</td>\n",
              "      <td>7</td>\n",
              "      <td>XS</td>\n",
              "    </tr>\n",
              "    <tr>\n",
              "      <th>167744</th>\n",
              "      <td>304099</td>\n",
              "      <td>Si oui, de quelle manière votre vie quotidienn...</td>\n",
              "      <td>modification des saisons, sur-sècheresse des é...</td>\n",
              "      <td>54</td>\n",
              "      <td>S</td>\n",
              "    </tr>\n",
              "    <tr>\n",
              "      <th>111958</th>\n",
              "      <td>203793</td>\n",
              "      <td>Que faudrait-il faire selon vous pour apporter...</td>\n",
              "      <td>La pollution générale (air, eau, de la terre, ...</td>\n",
              "      <td>770</td>\n",
              "      <td>L</td>\n",
              "    </tr>\n",
              "    <tr>\n",
              "      <th>150597</th>\n",
              "      <td>272833</td>\n",
              "      <td>Que faudrait-il faire selon vous pour apporter...</td>\n",
              "      <td>Sanctionner les plus pollueurs les grands grou...</td>\n",
              "      <td>75</td>\n",
              "      <td>S</td>\n",
              "    </tr>\n",
              "    <tr>\n",
              "      <th>14443</th>\n",
              "      <td>26805</td>\n",
              "      <td>Si oui, que faites-vous aujourd'hui pour proté...</td>\n",
              "      <td>Nous avons installé la domotique pour limiter ...</td>\n",
              "      <td>660</td>\n",
              "      <td>L</td>\n",
              "    </tr>\n",
              "    <tr>\n",
              "      <th>145281</th>\n",
              "      <td>263595</td>\n",
              "      <td>Si oui, que faudrait-il faire pour vous convai...</td>\n",
              "      <td>Développer les transports en commun ou le syst...</td>\n",
              "      <td>137</td>\n",
              "      <td>M</td>\n",
              "    </tr>\n",
              "    <tr>\n",
              "      <th>282068</th>\n",
              "      <td>514305</td>\n",
              "      <td>Que faudrait-il faire selon vous pour apporter...</td>\n",
              "      <td>Utiliser des énergie renouvelables le plus pos...</td>\n",
              "      <td>107</td>\n",
              "      <td>M</td>\n",
              "    </tr>\n",
              "    <tr>\n",
              "      <th>226481</th>\n",
              "      <td>412043</td>\n",
              "      <td>Si oui, que faudrait-il faire pour vous convai...</td>\n",
              "      <td>Que les transports en commun soient plus effic...</td>\n",
              "      <td>137</td>\n",
              "      <td>M</td>\n",
              "    </tr>\n",
              "  </tbody>\n",
              "</table>\n",
              "</div>"
            ],
            "text/plain": [
              "         index                                      questionTitle  \\\n",
              "100384  183201  Que faudrait-il faire selon vous pour apporter...   \n",
              "10316    19401  Si oui, que faudrait-il faire pour vous convai...   \n",
              "36143    66844  Si non, quelles sont les solutions de mobilité...   \n",
              "167744  304099  Si oui, de quelle manière votre vie quotidienn...   \n",
              "111958  203793  Que faudrait-il faire selon vous pour apporter...   \n",
              "150597  272833  Que faudrait-il faire selon vous pour apporter...   \n",
              "14443    26805  Si oui, que faites-vous aujourd'hui pour proté...   \n",
              "145281  263595  Si oui, que faudrait-il faire pour vous convai...   \n",
              "282068  514305  Que faudrait-il faire selon vous pour apporter...   \n",
              "226481  412043  Si oui, que faudrait-il faire pour vous convai...   \n",
              "\n",
              "                                           formattedValue  len size  \n",
              "100384  Trop d'entreprises polluantes et on entend ne ...  347    M  \n",
              "10316   Je me chauffe à électricité. \\nDonner les moye...  127    M  \n",
              "36143                                             Le vélo    7   XS  \n",
              "167744  modification des saisons, sur-sècheresse des é...   54    S  \n",
              "111958  La pollution générale (air, eau, de la terre, ...  770    L  \n",
              "150597  Sanctionner les plus pollueurs les grands grou...   75    S  \n",
              "14443   Nous avons installé la domotique pour limiter ...  660    L  \n",
              "145281  Développer les transports en commun ou le syst...  137    M  \n",
              "282068  Utiliser des énergie renouvelables le plus pos...  107    M  \n",
              "226481  Que les transports en commun soient plus effic...  137    M  "
            ]
          },
          "metadata": {
            "tags": []
          },
          "execution_count": 31
        }
      ]
    },
    {
      "metadata": {
        "id": "5KP9Neo9_GgP",
        "colab_type": "code",
        "colab": {}
      },
      "cell_type": "code",
      "source": [
        ""
      ],
      "execution_count": 0,
      "outputs": []
    },
    {
      "metadata": {
        "id": "AEh9ZMnLwxh-",
        "colab_type": "code",
        "outputId": "8c1449b4-23e9-41a6-936f-d6d181e32fd1",
        "colab": {
          "base_uri": "https://localhost:8080/",
          "height": 659
        }
      },
      "cell_type": "code",
      "source": [
        "plt.figure(figsize=(15,10))\n",
        "sns.countplot(df_rep_ff['size'],order=['XS','S','M','L','XL'])\n",
        "plt.xlabel(\"Size of answer\", fontsize=12)\n",
        "plt.ylabel(\"Count\", fontsize=12)\n",
        "plt.title(\"Size repartition\", fontsize=15)\n",
        "plt.show()"
      ],
      "execution_count": 0,
      "outputs": [
        {
          "output_type": "stream",
          "text": [
            "/usr/local/lib/python3.6/dist-packages/seaborn/categorical.py:1428: FutureWarning: remove_na is deprecated and is a private function. Do not use.\n",
            "  stat_data = remove_na(group_data)\n"
          ],
          "name": "stderr"
        },
        {
          "output_type": "display_data",
          "data": {
            "image/png": "[encoded data removed]",
            "text/plain": [
              "<Figure size 1080x720 with 1 Axes>"
            ]
          },
          "metadata": {
            "tags": []
          }
        }
      ]
    },
    {
      "metadata": {
        "id": "BlHYbp8sNsfG",
        "colab_type": "text"
      },
      "cell_type": "markdown",
      "source": [
        "## Word count"
      ]
    },
    {
      "metadata": {
        "id": "b-1PNRkww21C",
        "colab_type": "code",
        "colab": {}
      },
      "cell_type": "code",
      "source": [
        "def word_count (sentence) :\n",
        "  for char in '-.,\\n':\n",
        "    sentence=sentence.replace(char,' ')\n",
        "  return len(sentence.split())"
      ],
      "execution_count": 0,
      "outputs": []
    },
    {
      "metadata": {
        "id": "ZWJxRq_mOALR",
        "colab_type": "code",
        "colab": {}
      },
      "cell_type": "code",
      "source": [
        "assert(word_count(\"short sentence\")==2)\n",
        "s=\"\"\"\n",
        "Big, and\n",
        "complex sen-tence'ee\n",
        "\"\"\"\n",
        "assert(word_count(s)==5)"
      ],
      "execution_count": 0,
      "outputs": []
    },
    {
      "metadata": {
        "id": "2cAniGg6OE8Q",
        "colab_type": "code",
        "outputId": "3dfbfc01-4571-4be4-aaf0-669b67048ad9",
        "colab": {
          "base_uri": "https://localhost:8080/",
          "height": 204
        }
      },
      "cell_type": "code",
      "source": [
        "df_rep_ff['wc']=df_rep_ff.formattedValue.map(word_count)\n",
        "df_rep_ff.head(5)"
      ],
      "execution_count": 0,
      "outputs": [
        {
          "output_type": "execute_result",
          "data": {
            "text/html": [
              "<div>\n",
              "<style scoped>\n",
              "    .dataframe tbody tr th:only-of-type {\n",
              "        vertical-align: middle;\n",
              "    }\n",
              "\n",
              "    .dataframe tbody tr th {\n",
              "        vertical-align: top;\n",
              "    }\n",
              "\n",
              "    .dataframe thead th {\n",
              "        text-align: right;\n",
              "    }\n",
              "</style>\n",
              "<table border=\"1\" class=\"dataframe\">\n",
              "  <thead>\n",
              "    <tr style=\"text-align: right;\">\n",
              "      <th></th>\n",
              "      <th>index</th>\n",
              "      <th>questionTitle</th>\n",
              "      <th>formattedValue</th>\n",
              "      <th>len</th>\n",
              "      <th>size</th>\n",
              "      <th>wc</th>\n",
              "    </tr>\n",
              "  </thead>\n",
              "  <tbody>\n",
              "    <tr>\n",
              "      <th>0</th>\n",
              "      <td>14</td>\n",
              "      <td>Que pourrait faire la France pour faire partag...</td>\n",
              "      <td>Enseignement du tri sélectif à l'école</td>\n",
              "      <td>38</td>\n",
              "      <td>S</td>\n",
              "      <td>6</td>\n",
              "    </tr>\n",
              "    <tr>\n",
              "      <th>1</th>\n",
              "      <td>15</td>\n",
              "      <td>Y a-t-il d'autres points sur la transition éco...</td>\n",
              "      <td>Multiplier les centrales géothermiques</td>\n",
              "      <td>38</td>\n",
              "      <td>S</td>\n",
              "      <td>4</td>\n",
              "    </tr>\n",
              "    <tr>\n",
              "      <th>2</th>\n",
              "      <td>16</td>\n",
              "      <td>Quel est aujourd'hui pour vous le problème con...</td>\n",
              "      <td>Les problèmes auxquels se trouve confronté l’e...</td>\n",
              "      <td>1289</td>\n",
              "      <td>L</td>\n",
              "      <td>212</td>\n",
              "    </tr>\n",
              "    <tr>\n",
              "      <th>3</th>\n",
              "      <td>17</td>\n",
              "      <td>Que faudrait-il faire selon vous pour apporter...</td>\n",
              "      <td>Les problèmes auxquels se trouve confronté l’e...</td>\n",
              "      <td>1289</td>\n",
              "      <td>L</td>\n",
              "      <td>212</td>\n",
              "    </tr>\n",
              "    <tr>\n",
              "      <th>4</th>\n",
              "      <td>30</td>\n",
              "      <td>Que pourrait faire la France pour faire partag...</td>\n",
              "      <td>Mettre en oeuvre au niveau national ses engage...</td>\n",
              "      <td>66</td>\n",
              "      <td>S</td>\n",
              "      <td>9</td>\n",
              "    </tr>\n",
              "  </tbody>\n",
              "</table>\n",
              "</div>"
            ],
            "text/plain": [
              "   index                                      questionTitle  \\\n",
              "0     14  Que pourrait faire la France pour faire partag...   \n",
              "1     15  Y a-t-il d'autres points sur la transition éco...   \n",
              "2     16  Quel est aujourd'hui pour vous le problème con...   \n",
              "3     17  Que faudrait-il faire selon vous pour apporter...   \n",
              "4     30  Que pourrait faire la France pour faire partag...   \n",
              "\n",
              "                                      formattedValue   len size   wc  \n",
              "0             Enseignement du tri sélectif à l'école    38    S    6  \n",
              "1             Multiplier les centrales géothermiques    38    S    4  \n",
              "2  Les problèmes auxquels se trouve confronté l’e...  1289    L  212  \n",
              "3  Les problèmes auxquels se trouve confronté l’e...  1289    L  212  \n",
              "4  Mettre en oeuvre au niveau national ses engage...    66    S    9  "
            ]
          },
          "metadata": {
            "tags": []
          },
          "execution_count": 46
        }
      ]
    },
    {
      "metadata": {
        "id": "8G2B30vfO4IC",
        "colab_type": "code",
        "outputId": "38279129-98aa-4bc1-e653-7992afc7e512",
        "colab": {
          "base_uri": "https://localhost:8080/",
          "height": 170
        }
      },
      "cell_type": "code",
      "source": [
        "df_rep_ff.wc.describe()"
      ],
      "execution_count": 0,
      "outputs": [
        {
          "output_type": "execute_result",
          "data": {
            "text/plain": [
              "count    315721.000000\n",
              "mean         26.785922\n",
              "std          70.402631\n",
              "min           0.000000\n",
              "25%           6.000000\n",
              "50%          13.000000\n",
              "75%          29.000000\n",
              "max       20162.000000\n",
              "Name: wc, dtype: float64"
            ]
          },
          "metadata": {
            "tags": []
          },
          "execution_count": 47
        }
      ]
    },
    {
      "metadata": {
        "id": "5ijxPslUPGtc",
        "colab_type": "text"
      },
      "cell_type": "markdown",
      "source": [
        "## 75% answers are < 30 words, it should be our limit"
      ]
    }
  ]
}