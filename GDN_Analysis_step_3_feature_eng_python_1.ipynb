{
  "nbformat": 4,
  "nbformat_minor": 0,
  "metadata": {
    "colab": {
      "name": "GDN Analysis.step 3 - feature_eng.python.1.ipynb",
      "version": "0.3.2",
      "provenance": [],
      "collapsed_sections": [
        "0C9KmdYST0E8",
        "oaX4cp-2UP27",
        "wdjqAJJVUXtZ",
        "rpxebGFPUgEQ",
        "MQl51nSHUmMO",
        "NRrOczsiZBlT"
      ],
      "toc_visible": true,
      "include_colab_link": true
    },
    "kernelspec": {
      "name": "python3",
      "display_name": "Python 3"
    }
  },
  "cells": [
    {
      "cell_type": "markdown",
      "metadata": {
        "id": "view-in-github",
        "colab_type": "text"
      },
      "source": [
        "<a href=\"https://colab.research.google.com/github/olivierlubet/IBM_advanced_datascience_Coursera_Capstone/blob/master/GDN_Analysis_step_3_feature_eng_python_1.ipynb\" target=\"_parent\"><img src=\"https://colab.research.google.com/assets/colab-badge.svg\" alt=\"Open In Colab\"/></a>"
      ]
    },
    {
      "metadata": {
        "id": "jKwcW-31EZVu",
        "colab_type": "code",
        "colab": {}
      },
      "cell_type": "code",
      "source": [
        ""
      ],
      "execution_count": 0,
      "outputs": []
    },
    {
      "metadata": {
        "id": "lnTi_wsiFLqR",
        "colab_type": "text"
      },
      "cell_type": "markdown",
      "source": [
        "# Grand Débat National - Feature Engineering"
      ]
    },
    {
      "metadata": {
        "id": "uxgy5VU1Ek8_",
        "colab_type": "code",
        "outputId": "26ac977f-78ae-4804-f3ef-4e4eb87df7be",
        "colab": {
          "base_uri": "https://localhost:8080/",
          "height": 306
        }
      },
      "cell_type": "code",
      "source": [
        "!ls -alh"
      ],
      "execution_count": 52,
      "outputs": [
        {
          "output_type": "stream",
          "text": [
            "total 1.2G\n",
            "drwxr-xr-x 1 root root 4.0K Apr  6 17:11 .\n",
            "drwxr-xr-x 1 root root 4.0K Apr  6 16:38 ..\n",
            "-rw-r--r-- 1 root root 2.5K Apr  6 17:11 adc.json\n",
            "drwxr-xr-x 1 root root 4.0K Apr  6 17:11 .config\n",
            "-rw-r--r-- 1 root root  14K Apr  6 16:46 extract_features.py\n",
            "-rw-r--r-- 1 root root 751K Apr  6 17:10 GDN.384.npy\n",
            "-rw-r--r-- 1 root root 227M Apr  6 16:40 GDN.csv\n",
            "-rw-r--r-- 1 root root 163M Apr  6 16:56 GDN.jsonl\n",
            "-rw-r--r-- 1 root root 147M Apr  6 16:56 GDN.npy\n",
            "-rw-r--r-- 1 root root  89K Apr  6 16:46 GDN.txt\n",
            "-rw-r--r-- 1 root root  38K Apr  6 16:46 modeling.py\n",
            "drwxr-xr-x 2 root root 4.0K Apr  6 16:46 multi_cased_L-12_H-768_A-12\n",
            "-rw-r--r-- 1 root root 633M Nov 24 00:57 multi_cased_L-12_H-768_A-12.zip\n",
            "drwxr-xr-x 2 root root 4.0K Apr  6 16:46 __pycache__\n",
            "drwxr-xr-x 1 root root 4.0K Apr  4 20:20 sample_data\n",
            "-rw-r--r-- 1 root root  12K Apr  6 16:46 tokenization.py\n"
          ],
          "name": "stdout"
        }
      ]
    },
    {
      "metadata": {
        "id": "Tb3leo8pFT1p",
        "colab_type": "code",
        "colab": {}
      },
      "cell_type": "code",
      "source": [
        ""
      ],
      "execution_count": 0,
      "outputs": []
    },
    {
      "metadata": {
        "id": "IyNETwy3FUe4",
        "colab_type": "text"
      },
      "cell_type": "markdown",
      "source": [
        "# Installation and imports of modules"
      ]
    },
    {
      "metadata": {
        "id": "Ft9gpxJB3lkn",
        "colab_type": "code",
        "colab": {}
      },
      "cell_type": "code",
      "source": [
        "\n",
        "import os\n",
        "import zipfile\n",
        "\n",
        "import pandas as pd\n",
        "import numpy as np\n",
        "import matplotlib.pyplot as plt\n",
        "\n",
        "from sklearn.preprocessing import *"
      ],
      "execution_count": 0,
      "outputs": []
    },
    {
      "metadata": {
        "id": "Sw7iODndBk7B",
        "colab_type": "text"
      },
      "cell_type": "markdown",
      "source": [
        "# Create an input file for BERT\n",
        "https://github.com/google-research/bert"
      ]
    },
    {
      "metadata": {
        "id": "GIX2nnFgLRAk",
        "colab_type": "code",
        "outputId": "e8b049b2-9e3d-427b-9a98-fd29b1f2c34a",
        "colab": {
          "base_uri": "https://localhost:8080/",
          "height": 204
        }
      },
      "cell_type": "code",
      "source": [
        "df = pd.read_csv('GDN.csv',header=0).dropna()\n",
        "df.head(5)"
      ],
      "execution_count": 54,
      "outputs": [
        {
          "output_type": "execute_result",
          "data": {
            "text/html": [
              "<div>\n",
              "<style scoped>\n",
              "    .dataframe tbody tr th:only-of-type {\n",
              "        vertical-align: middle;\n",
              "    }\n",
              "\n",
              "    .dataframe tbody tr th {\n",
              "        vertical-align: top;\n",
              "    }\n",
              "\n",
              "    .dataframe thead th {\n",
              "        text-align: right;\n",
              "    }\n",
              "</style>\n",
              "<table border=\"1\" class=\"dataframe\">\n",
              "  <thead>\n",
              "    <tr style=\"text-align: right;\">\n",
              "      <th></th>\n",
              "      <th>Unnamed: 0</th>\n",
              "      <th>questionTitle</th>\n",
              "      <th>formattedValue</th>\n",
              "    </tr>\n",
              "  </thead>\n",
              "  <tbody>\n",
              "    <tr>\n",
              "      <th>0</th>\n",
              "      <td>14</td>\n",
              "      <td>Que pourrait faire la France pour faire partag...</td>\n",
              "      <td>Enseignement du tri sélectif à l'école</td>\n",
              "    </tr>\n",
              "    <tr>\n",
              "      <th>1</th>\n",
              "      <td>15</td>\n",
              "      <td>Y a-t-il d'autres points sur la transition éco...</td>\n",
              "      <td>Multiplier les centrales géothermiques</td>\n",
              "    </tr>\n",
              "    <tr>\n",
              "      <th>2</th>\n",
              "      <td>16</td>\n",
              "      <td>Quel est aujourd'hui pour vous le problème con...</td>\n",
              "      <td>Les problèmes auxquels se trouve confronté l’e...</td>\n",
              "    </tr>\n",
              "    <tr>\n",
              "      <th>3</th>\n",
              "      <td>17</td>\n",
              "      <td>Que faudrait-il faire selon vous pour apporter...</td>\n",
              "      <td>Les problèmes auxquels se trouve confronté l’e...</td>\n",
              "    </tr>\n",
              "    <tr>\n",
              "      <th>4</th>\n",
              "      <td>30</td>\n",
              "      <td>Que pourrait faire la France pour faire partag...</td>\n",
              "      <td>Mettre en oeuvre au niveau national ses engage...</td>\n",
              "    </tr>\n",
              "  </tbody>\n",
              "</table>\n",
              "</div>"
            ],
            "text/plain": [
              "   Unnamed: 0                                      questionTitle  \\\n",
              "0          14  Que pourrait faire la France pour faire partag...   \n",
              "1          15  Y a-t-il d'autres points sur la transition éco...   \n",
              "2          16  Quel est aujourd'hui pour vous le problème con...   \n",
              "3          17  Que faudrait-il faire selon vous pour apporter...   \n",
              "4          30  Que pourrait faire la France pour faire partag...   \n",
              "\n",
              "                                      formattedValue  \n",
              "0             Enseignement du tri sélectif à l'école  \n",
              "1             Multiplier les centrales géothermiques  \n",
              "2  Les problèmes auxquels se trouve confronté l’e...  \n",
              "3  Les problèmes auxquels se trouve confronté l’e...  \n",
              "4  Mettre en oeuvre au niveau national ses engage...  "
            ]
          },
          "metadata": {
            "tags": []
          },
          "execution_count": 54
        }
      ]
    },
    {
      "metadata": {
        "id": "EdtaylVbLTVj",
        "colab_type": "code",
        "colab": {}
      },
      "cell_type": "code",
      "source": [
        "SAMPLES_NB=2000\n",
        "df.formattedValue.sample(SAMPLES_NB).to_csv('GDN.txt',index=False)"
      ],
      "execution_count": 0,
      "outputs": []
    },
    {
      "metadata": {
        "id": "w3ttvccbKUiL",
        "colab_type": "code",
        "outputId": "e162000a-2d62-4353-e309-45c907b2efef",
        "colab": {
          "base_uri": "https://localhost:8080/",
          "height": 119
        }
      },
      "cell_type": "code",
      "source": [
        "!wc -l GDN.*"
      ],
      "execution_count": 56,
      "outputs": [
        {
          "output_type": "stream",
          "text": [
            "     2382 GDN.384.npy\n",
            "   763309 GDN.csv\n",
            "      500 GDN.jsonl\n",
            "   255697 GDN.npy\n",
            "     2000 GDN.txt\n",
            "  1023888 total\n"
          ],
          "name": "stdout"
        }
      ]
    },
    {
      "metadata": {
        "id": "FlEHP69vB4mo",
        "colab_type": "text"
      },
      "cell_type": "markdown",
      "source": [
        "## Installing BERT"
      ]
    },
    {
      "metadata": {
        "id": "Z6yjTffUFX3V",
        "colab_type": "code",
        "colab": {}
      },
      "cell_type": "code",
      "source": [
        "BERT_MODEL = 'multi_cased_L-12_H-768_A-12'"
      ],
      "execution_count": 0,
      "outputs": []
    },
    {
      "metadata": {
        "id": "XJxedVd5B7Xo",
        "colab_type": "code",
        "colab": {}
      },
      "cell_type": "code",
      "source": [
        "if not os.path.isfile(f\"{BERT_MODEL}.zip\") : \n",
        "  print('Downloading BERT')\n",
        "  os.system(f\"wget https://storage.googleapis.com/bert_models/2018_11_23/{BERT_MODEL}.zip\")"
      ],
      "execution_count": 0,
      "outputs": []
    },
    {
      "metadata": {
        "id": "t4pqc0MH3reK",
        "colab_type": "code",
        "outputId": "319b7435-3296-4217-f64d-4c67e07d29e1",
        "colab": {
          "base_uri": "https://localhost:8080/",
          "height": 34
        }
      },
      "cell_type": "code",
      "source": [
        "if not os.path.isdir(BERT_MODEL) :\n",
        "  with zipfile.ZipFile(BERT_MODEL+\".zip\",\"r\") as zip_ref:\n",
        "      zip_ref.extractall()\n",
        "\n",
        "for r, d, f in os.walk(BERT_MODEL):\n",
        "  print(f)"
      ],
      "execution_count": 59,
      "outputs": [
        {
          "output_type": "stream",
          "text": [
            "['bert_model.ckpt.meta', 'bert_config.json', 'vocab.txt', 'bert_model.ckpt.data-00000-of-00001', 'bert_model.ckpt.index']\n"
          ],
          "name": "stdout"
        }
      ]
    },
    {
      "metadata": {
        "id": "PC_XxLWv3f96",
        "colab_type": "code",
        "outputId": "52915931-73d4-4ff8-eba4-1707067bfd9d",
        "colab": {
          "base_uri": "https://localhost:8080/",
          "height": 578
        }
      },
      "cell_type": "code",
      "source": [
        "!wget https://raw.githubusercontent.com/google-research/bert/master/modeling.py \n",
        "!wget https://raw.githubusercontent.com/google-research/bert/master/extract_features.py \n",
        "!wget https://raw.githubusercontent.com/google-research/bert/master/tokenization.py"
      ],
      "execution_count": 60,
      "outputs": [
        {
          "output_type": "stream",
          "text": [
            "--2019-04-06 18:31:06--  https://raw.githubusercontent.com/google-research/bert/master/modeling.py\n",
            "Resolving raw.githubusercontent.com (raw.githubusercontent.com)... 151.101.0.133, 151.101.64.133, 151.101.128.133, ...\n",
            "Connecting to raw.githubusercontent.com (raw.githubusercontent.com)|151.101.0.133|:443... connected.\n",
            "HTTP request sent, awaiting response... 200 OK\n",
            "Length: 37922 (37K) [text/plain]\n",
            "Saving to: ‘modeling.py.1’\n",
            "\n",
            "\rmodeling.py.1         0%[                    ]       0  --.-KB/s               \rmodeling.py.1       100%[===================>]  37.03K  --.-KB/s    in 0.01s   \n",
            "\n",
            "2019-04-06 18:31:06 (3.04 MB/s) - ‘modeling.py.1’ saved [37922/37922]\n",
            "\n",
            "--2019-04-06 18:31:07--  https://raw.githubusercontent.com/google-research/bert/master/extract_features.py\n",
            "Resolving raw.githubusercontent.com (raw.githubusercontent.com)... 151.101.0.133, 151.101.64.133, 151.101.128.133, ...\n",
            "Connecting to raw.githubusercontent.com (raw.githubusercontent.com)|151.101.0.133|:443... connected.\n",
            "HTTP request sent, awaiting response... 200 OK\n",
            "Length: 13898 (14K) [text/plain]\n",
            "Saving to: ‘extract_features.py.1’\n",
            "\n",
            "extract_features.py 100%[===================>]  13.57K  --.-KB/s    in 0.01s   \n",
            "\n",
            "2019-04-06 18:31:08 (1.09 MB/s) - ‘extract_features.py.1’ saved [13898/13898]\n",
            "\n",
            "--2019-04-06 18:31:09--  https://raw.githubusercontent.com/google-research/bert/master/tokenization.py\n",
            "Resolving raw.githubusercontent.com (raw.githubusercontent.com)... 151.101.0.133, 151.101.64.133, 151.101.128.133, ...\n",
            "Connecting to raw.githubusercontent.com (raw.githubusercontent.com)|151.101.0.133|:443... connected.\n",
            "HTTP request sent, awaiting response... 200 OK\n",
            "Length: 12257 (12K) [text/plain]\n",
            "Saving to: ‘tokenization.py.1’\n",
            "\n",
            "tokenization.py.1   100%[===================>]  11.97K  --.-KB/s    in 0s      \n",
            "\n",
            "2019-04-06 18:31:09 (122 MB/s) - ‘tokenization.py.1’ saved [12257/12257]\n",
            "\n"
          ],
          "name": "stdout"
        }
      ]
    },
    {
      "metadata": {
        "id": "C8geYcnlCEq-",
        "colab_type": "text"
      },
      "cell_type": "markdown",
      "source": [
        "## Using BERT to extract fixed feature vectors "
      ]
    },
    {
      "metadata": {
        "id": "YDaSd3C45kWy",
        "colab_type": "code",
        "colab": {}
      },
      "cell_type": "code",
      "source": [
        "import modeling\n",
        "import extract_features\n",
        "import tokenization\n",
        "import tensorflow as tf"
      ],
      "execution_count": 0,
      "outputs": []
    },
    {
      "metadata": {
        "id": "I7HPIGxOFxO2",
        "colab_type": "code",
        "outputId": "d43bd9f3-d760-4d29-87d9-9a4bdc4d5484",
        "colab": {
          "base_uri": "https://localhost:8080/",
          "height": 34
        }
      },
      "cell_type": "code",
      "source": [
        "os.system(f\"python3 extract_features.py \\\n",
        "\t  --input_file=GDN.txt \\\n",
        "\t  --output_file=GDN.jsonl \\\n",
        "\t  --vocab_file={BERT_MODEL}/vocab.txt \\\n",
        "\t  --bert_config_file={BERT_MODEL}/bert_config.json \\\n",
        "\t  --init_checkpoint={BERT_MODEL}/bert_model.ckpt \\\n",
        "\t  --layers=-1 \\\n",
        "\t  --max_seq_length=256 \\\n",
        "\t  --batch_size=8\")"
      ],
      "execution_count": 62,
      "outputs": [
        {
          "output_type": "execute_result",
          "data": {
            "text/plain": [
              "0"
            ]
          },
          "metadata": {
            "tags": []
          },
          "execution_count": 62
        }
      ]
    },
    {
      "metadata": {
        "id": "qHhwFfGiJ6Y7",
        "colab_type": "code",
        "outputId": "4d182bbf-061d-4cfb-d580-766364f0adc5",
        "colab": {
          "base_uri": "https://localhost:8080/",
          "height": 119
        }
      },
      "cell_type": "code",
      "source": [
        "! wc -l GDN.*"
      ],
      "execution_count": 63,
      "outputs": [
        {
          "output_type": "stream",
          "text": [
            "      2382 GDN.384.npy\n",
            "    763309 GDN.csv\n",
            "      2000 GDN.jsonl\n",
            "    255697 GDN.npy\n",
            "      2000 GDN.txt\n",
            "   1025388 total\n"
          ],
          "name": "stdout"
        }
      ]
    },
    {
      "metadata": {
        "id": "N5aaZT6vF1PW",
        "colab_type": "code",
        "outputId": "9bec1228-9f8b-4c08-d597-db8402c76817",
        "colab": {
          "base_uri": "https://localhost:8080/",
          "height": 102
        }
      },
      "cell_type": "code",
      "source": [
        "! ls -alh GDN.*"
      ],
      "execution_count": 64,
      "outputs": [
        {
          "output_type": "stream",
          "text": [
            "-rw-r--r-- 1 root root 751K Apr  6 17:10 GDN.384.npy\n",
            "-rw-r--r-- 1 root root 227M Apr  6 16:40 GDN.csv\n",
            "-rw-r--r-- 1 root root 620M Apr  6 19:07 GDN.jsonl\n",
            "-rw-r--r-- 1 root root 147M Apr  6 16:56 GDN.npy\n",
            "-rw-r--r-- 1 root root 326K Apr  6 18:31 GDN.txt\n"
          ],
          "name": "stdout"
        }
      ]
    },
    {
      "metadata": {
        "id": "0C9KmdYST0E8",
        "colab_type": "text"
      },
      "cell_type": "markdown",
      "source": [
        "# BERT output ... what do we get ?"
      ]
    },
    {
      "metadata": {
        "id": "zhAkzUD9GFUy",
        "colab_type": "code",
        "colab": {}
      },
      "cell_type": "code",
      "source": [
        "bert_output = pd.read_json(\"GDN.jsonl\", lines = True)"
      ],
      "execution_count": 0,
      "outputs": []
    },
    {
      "metadata": {
        "id": "QwxjvTN0Hh5i",
        "colab_type": "code",
        "outputId": "6d699596-c8d9-485e-a14f-8d8712e9e46a",
        "colab": {
          "base_uri": "https://localhost:8080/",
          "height": 204
        }
      },
      "cell_type": "code",
      "source": [
        "bert_output.head(5)"
      ],
      "execution_count": 66,
      "outputs": [
        {
          "output_type": "execute_result",
          "data": {
            "text/html": [
              "<div>\n",
              "<style scoped>\n",
              "    .dataframe tbody tr th:only-of-type {\n",
              "        vertical-align: middle;\n",
              "    }\n",
              "\n",
              "    .dataframe tbody tr th {\n",
              "        vertical-align: top;\n",
              "    }\n",
              "\n",
              "    .dataframe thead th {\n",
              "        text-align: right;\n",
              "    }\n",
              "</style>\n",
              "<table border=\"1\" class=\"dataframe\">\n",
              "  <thead>\n",
              "    <tr style=\"text-align: right;\">\n",
              "      <th></th>\n",
              "      <th>features</th>\n",
              "      <th>linex_index</th>\n",
              "    </tr>\n",
              "  </thead>\n",
              "  <tbody>\n",
              "    <tr>\n",
              "      <th>0</th>\n",
              "      <td>[{'token': '[CLS]', 'layers': [{'index': -1, '...</td>\n",
              "      <td>0</td>\n",
              "    </tr>\n",
              "    <tr>\n",
              "      <th>1</th>\n",
              "      <td>[{'token': '[CLS]', 'layers': [{'index': -1, '...</td>\n",
              "      <td>1</td>\n",
              "    </tr>\n",
              "    <tr>\n",
              "      <th>2</th>\n",
              "      <td>[{'token': '[CLS]', 'layers': [{'index': -1, '...</td>\n",
              "      <td>2</td>\n",
              "    </tr>\n",
              "    <tr>\n",
              "      <th>3</th>\n",
              "      <td>[{'token': '[CLS]', 'layers': [{'index': -1, '...</td>\n",
              "      <td>3</td>\n",
              "    </tr>\n",
              "    <tr>\n",
              "      <th>4</th>\n",
              "      <td>[{'token': '[CLS]', 'layers': [{'index': -1, '...</td>\n",
              "      <td>4</td>\n",
              "    </tr>\n",
              "  </tbody>\n",
              "</table>\n",
              "</div>"
            ],
            "text/plain": [
              "                                            features  linex_index\n",
              "0  [{'token': '[CLS]', 'layers': [{'index': -1, '...            0\n",
              "1  [{'token': '[CLS]', 'layers': [{'index': -1, '...            1\n",
              "2  [{'token': '[CLS]', 'layers': [{'index': -1, '...            2\n",
              "3  [{'token': '[CLS]', 'layers': [{'index': -1, '...            3\n",
              "4  [{'token': '[CLS]', 'layers': [{'index': -1, '...            4"
            ]
          },
          "metadata": {
            "tags": []
          },
          "execution_count": 66
        }
      ]
    },
    {
      "metadata": {
        "id": "Kts-_Zz5HoTn",
        "colab_type": "code",
        "outputId": "fe0886b1-d328-40fb-8730-2be9267527b9",
        "colab": {
          "base_uri": "https://localhost:8080/",
          "height": 34
        }
      },
      "cell_type": "code",
      "source": [
        "bert_output.features.count()"
      ],
      "execution_count": 67,
      "outputs": [
        {
          "output_type": "execute_result",
          "data": {
            "text/plain": [
              "2000"
            ]
          },
          "metadata": {
            "tags": []
          },
          "execution_count": 67
        }
      ]
    },
    {
      "metadata": {
        "id": "huEx_Z8sUGr7",
        "colab_type": "code",
        "colab": {}
      },
      "cell_type": "code",
      "source": [
        "bert_output['token_count']=bert_output.features.map(lambda x:len(x))"
      ],
      "execution_count": 0,
      "outputs": []
    },
    {
      "metadata": {
        "id": "ZcV6f1j_UIhP",
        "colab_type": "code",
        "outputId": "2fdd725b-1bbb-4723-c8ba-3139681143e7",
        "colab": {
          "base_uri": "https://localhost:8080/",
          "height": 170
        }
      },
      "cell_type": "code",
      "source": [
        "bert_output.token_count.describe()"
      ],
      "execution_count": 69,
      "outputs": [
        {
          "output_type": "execute_result",
          "data": {
            "text/plain": [
              "count    2000.000000\n",
              "mean       40.436500\n",
              "std        45.373366\n",
              "min         3.000000\n",
              "25%        14.000000\n",
              "50%        24.000000\n",
              "75%        48.000000\n",
              "max       256.000000\n",
              "Name: token_count, dtype: float64"
            ]
          },
          "metadata": {
            "tags": []
          },
          "execution_count": 69
        }
      ]
    },
    {
      "metadata": {
        "id": "0Iz3OuCYUMlh",
        "colab_type": "text"
      },
      "cell_type": "markdown",
      "source": [
        "75% of answers counts < 50 tokens"
      ]
    },
    {
      "metadata": {
        "id": "oaX4cp-2UP27",
        "colab_type": "text"
      },
      "cell_type": "markdown",
      "source": [
        "## Level 1: token list"
      ]
    },
    {
      "metadata": {
        "id": "3KW4qvkeUJxX",
        "colab_type": "code",
        "outputId": "e73d54d0-ad2f-414f-b716-bb51b810735c",
        "colab": {
          "base_uri": "https://localhost:8080/",
          "height": 88
        }
      },
      "cell_type": "code",
      "source": [
        "for i in range(3):print(\"{}:{}\".format(i,len(bert_output.features.iloc[i])))"
      ],
      "execution_count": 70,
      "outputs": [
        {
          "output_type": "stream",
          "text": [
            "0:24\n",
            "1:6\n",
            "2:44\n"
          ],
          "name": "stdout"
        }
      ]
    },
    {
      "metadata": {
        "id": "V6Q9zDdIUSfL",
        "colab_type": "code",
        "outputId": "eeb997a6-2850-4983-ec2a-8c73671e1233",
        "colab": {
          "base_uri": "https://localhost:8080/",
          "height": 54
        }
      },
      "cell_type": "code",
      "source": [
        "bert_output.features.iloc[0][0].keys()"
      ],
      "execution_count": 71,
      "outputs": [
        {
          "output_type": "execute_result",
          "data": {
            "text/plain": [
              "dict_keys(['token', 'layers'])"
            ]
          },
          "metadata": {
            "tags": []
          },
          "execution_count": 71
        }
      ]
    },
    {
      "metadata": {
        "id": "siHwsE0kUUCD",
        "colab_type": "code",
        "outputId": "0f8ae998-460d-4d9f-d334-f1dbe5eac765",
        "colab": {
          "base_uri": "https://localhost:8080/",
          "height": 122
        }
      },
      "cell_type": "code",
      "source": [
        "for i in range(5) :print(bert_output.features.iloc[0][i]['token'])"
      ],
      "execution_count": 72,
      "outputs": [
        {
          "output_type": "stream",
          "text": [
            "[CLS]\n",
            "e\n",
            "##cono\n",
            "##mise\n",
            "##r\n"
          ],
          "name": "stdout"
        }
      ]
    },
    {
      "metadata": {
        "id": "wdjqAJJVUXtZ",
        "colab_type": "text"
      },
      "cell_type": "markdown",
      "source": [
        "## Level 2: layers extracted (only the last: -1)"
      ]
    },
    {
      "metadata": {
        "id": "FsBOWoeFUVnf",
        "colab_type": "code",
        "outputId": "a12dabf4-c683-4bd7-a57b-63c541674f41",
        "colab": {
          "base_uri": "https://localhost:8080/",
          "height": 88
        }
      },
      "cell_type": "code",
      "source": [
        "for i in range(3):print(\"{}:{}\".format(i,len(bert_output.features.iloc[0][i]['layers'])))"
      ],
      "execution_count": 73,
      "outputs": [
        {
          "output_type": "stream",
          "text": [
            "0:1\n",
            "1:1\n",
            "2:1\n"
          ],
          "name": "stdout"
        }
      ]
    },
    {
      "metadata": {
        "id": "8RR1lORMUand",
        "colab_type": "code",
        "outputId": "98f859f9-d847-4c3a-86a5-7f35fb036d8e",
        "colab": {
          "base_uri": "https://localhost:8080/",
          "height": 54
        }
      },
      "cell_type": "code",
      "source": [
        "bert_output.features.iloc[0][0]['layers'][0].keys()"
      ],
      "execution_count": 74,
      "outputs": [
        {
          "output_type": "execute_result",
          "data": {
            "text/plain": [
              "dict_keys(['index', 'values'])"
            ]
          },
          "metadata": {
            "tags": []
          },
          "execution_count": 74
        }
      ]
    },
    {
      "metadata": {
        "id": "YJ_MvO8OUcXj",
        "colab_type": "code",
        "outputId": "39855671-211a-4457-f40b-13522b27f60b",
        "colab": {
          "base_uri": "https://localhost:8080/",
          "height": 54
        }
      },
      "cell_type": "code",
      "source": [
        "print(bert_output.features.iloc[0][1]['layers'][0]['index'])"
      ],
      "execution_count": 75,
      "outputs": [
        {
          "output_type": "stream",
          "text": [
            "-1\n"
          ],
          "name": "stdout"
        }
      ]
    },
    {
      "metadata": {
        "id": "rpxebGFPUgEQ",
        "colab_type": "text"
      },
      "cell_type": "markdown",
      "source": [
        "## Level 3: vectors (768-hidden)"
      ]
    },
    {
      "metadata": {
        "id": "fYjF5xDxUd9z",
        "colab_type": "code",
        "outputId": "a4fef415-d14b-4075-c0d8-e7a69d4cf940",
        "colab": {
          "base_uri": "https://localhost:8080/",
          "height": 54
        }
      },
      "cell_type": "code",
      "source": [
        "len(bert_output.features.iloc[0][1]['layers'][0]['values'])"
      ],
      "execution_count": 76,
      "outputs": [
        {
          "output_type": "execute_result",
          "data": {
            "text/plain": [
              "768"
            ]
          },
          "metadata": {
            "tags": []
          },
          "execution_count": 76
        }
      ]
    },
    {
      "metadata": {
        "id": "Ej4dnBCyUhvP",
        "colab_type": "code",
        "outputId": "57e93a99-39f1-4832-b5b4-17f748f6ab14",
        "colab": {
          "base_uri": "https://localhost:8080/",
          "height": 88
        }
      },
      "cell_type": "code",
      "source": [
        "for i in range(3) : print(\"{}:{}\".format(i,bert_output.features.iloc[0][0]['layers'][0]['values'][i]))"
      ],
      "execution_count": 77,
      "outputs": [
        {
          "output_type": "stream",
          "text": [
            "0:-0.21756799999999998\n",
            "1:-0.552719\n",
            "2:0.237342\n"
          ],
          "name": "stdout"
        }
      ]
    },
    {
      "metadata": {
        "id": "MQl51nSHUmMO",
        "colab_type": "text"
      },
      "cell_type": "markdown",
      "source": [
        "# Flatten each answer\n",
        "Taking the fact that 75% of anwsers are < 30 words and < 50 tokens"
      ]
    },
    {
      "metadata": {
        "id": "piSQ55gQUjT3",
        "colab_type": "code",
        "colab": {}
      },
      "cell_type": "code",
      "source": [
        ""
      ],
      "execution_count": 0,
      "outputs": []
    },
    {
      "metadata": {
        "id": "YtmBDB8C6R6c",
        "colab_type": "code",
        "outputId": "d371f8de-d5fc-4686-8796-5601676bbe36",
        "colab": {
          "base_uri": "https://localhost:8080/",
          "height": 54
        }
      },
      "cell_type": "code",
      "source": [
        "sample_size = bert_output.features.count()\n",
        "tokens_size = 50\n",
        "hidden_embedded = 768\n",
        "\n",
        "data = np.zeros((sample_size,tokens_size,hidden_embedded))\n",
        "data.shape"
      ],
      "execution_count": 78,
      "outputs": [
        {
          "output_type": "execute_result",
          "data": {
            "text/plain": [
              "(2000, 50, 768)"
            ]
          },
          "metadata": {
            "tags": []
          },
          "execution_count": 78
        }
      ]
    },
    {
      "metadata": {
        "id": "L9JQnqufHs-x",
        "colab_type": "code",
        "colab": {}
      },
      "cell_type": "code",
      "source": [
        "for sample_index, row in bert_output.iterrows():\n",
        "  for token_index,token in enumerate(row.features):\n",
        "    if token_index < tokens_size :\n",
        "      data[sample_index,token_index]=token['layers'][0]['values']"
      ],
      "execution_count": 0,
      "outputs": []
    },
    {
      "metadata": {
        "id": "NRrOczsiZBlT",
        "colab_type": "text"
      },
      "cell_type": "markdown",
      "source": [
        "# Save the numpy array"
      ]
    },
    {
      "metadata": {
        "id": "hlk3sZInYXaE",
        "colab_type": "code",
        "colab": {}
      },
      "cell_type": "code",
      "source": [
        "np.save(arr=data,file='GDN.npy')"
      ],
      "execution_count": 0,
      "outputs": []
    },
    {
      "metadata": {
        "id": "NLr_t0ABIZ0v",
        "colab_type": "code",
        "colab": {}
      },
      "cell_type": "code",
      "source": [
        ""
      ],
      "execution_count": 0,
      "outputs": []
    },
    {
      "metadata": {
        "id": "sBogxSeEJEoT",
        "colab_type": "code",
        "outputId": "71bda779-b637-4c86-b697-bab7da5d9c55",
        "colab": {
          "base_uri": "https://localhost:8080/",
          "height": 34
        }
      },
      "cell_type": "code",
      "source": [
        "data.shape"
      ],
      "execution_count": 81,
      "outputs": [
        {
          "output_type": "execute_result",
          "data": {
            "text/plain": [
              "(2000, 50, 768)"
            ]
          },
          "metadata": {
            "tags": []
          },
          "execution_count": 81
        }
      ]
    },
    {
      "metadata": {
        "id": "3FITk_Tybz2k",
        "colab_type": "text"
      },
      "cell_type": "markdown",
      "source": [
        "# How to give our sentences a reasonable size\n",
        "## Way 1 - Get the document vocabulary to build TF-IDF"
      ]
    },
    {
      "metadata": {
        "id": "eZIrNz_NJCdP",
        "colab_type": "code",
        "colab": {}
      },
      "cell_type": "code",
      "source": [
        "vocab = []\n",
        "for sample_index, row in bert_output.iterrows():\n",
        "  for token_index,token in enumerate(row.features):\n",
        "      vocab.append(token['layers'][0]['values'])"
      ],
      "execution_count": 0,
      "outputs": []
    },
    {
      "metadata": {
        "id": "EQxz9MaAcH3B",
        "colab_type": "code",
        "colab": {}
      },
      "cell_type": "code",
      "source": [
        "vocab = np.array(vocab)"
      ],
      "execution_count": 0,
      "outputs": []
    },
    {
      "metadata": {
        "id": "yny85XTfd1kU",
        "colab_type": "code",
        "outputId": "2a649da4-e523-4142-efda-b584ad97501c",
        "colab": {
          "base_uri": "https://localhost:8080/",
          "height": 34
        }
      },
      "cell_type": "code",
      "source": [
        "vocab.shape"
      ],
      "execution_count": 84,
      "outputs": [
        {
          "output_type": "execute_result",
          "data": {
            "text/plain": [
              "(80873, 768)"
            ]
          },
          "metadata": {
            "tags": []
          },
          "execution_count": 84
        }
      ]
    },
    {
      "metadata": {
        "id": "fJVVWUP_dAo7",
        "colab_type": "code",
        "outputId": "a2d9c98d-b8cd-49fc-b025-92a116252f6c",
        "colab": {
          "base_uri": "https://localhost:8080/",
          "height": 34
        }
      },
      "cell_type": "code",
      "source": [
        "np.unique(vocab,axis=0).shape"
      ],
      "execution_count": 85,
      "outputs": [
        {
          "output_type": "execute_result",
          "data": {
            "text/plain": [
              "(77437, 768)"
            ]
          },
          "metadata": {
            "tags": []
          },
          "execution_count": 85
        }
      ]
    },
    {
      "metadata": {
        "id": "hzapdaHHeDJy",
        "colab_type": "text"
      },
      "cell_type": "markdown",
      "source": [
        "BERT build for each token a sensitive meaning (the same token in two different places has not the same meaning), and our vocabulary can't be directly reduce by \"unique meanings\""
      ]
    },
    {
      "metadata": {
        "id": "oTD9v0yAcKEx",
        "colab_type": "code",
        "outputId": "669bdd90-429b-49c1-9595-966d0579fbfc",
        "colab": {
          "base_uri": "https://localhost:8080/",
          "height": 34
        }
      },
      "cell_type": "code",
      "source": [
        "np.unique(np.around(vocab,2),axis=0).shape"
      ],
      "execution_count": 86,
      "outputs": [
        {
          "output_type": "execute_result",
          "data": {
            "text/plain": [
              "(77437, 768)"
            ]
          },
          "metadata": {
            "tags": []
          },
          "execution_count": 86
        }
      ]
    },
    {
      "metadata": {
        "id": "6jFngX6B3j5V",
        "colab_type": "code",
        "outputId": "2ec19efc-0750-468c-fc2e-557cf316616b",
        "colab": {
          "base_uri": "https://localhost:8080/",
          "height": 34
        }
      },
      "cell_type": "code",
      "source": [
        "np.unique(np.around(vocab,0)).shape"
      ],
      "execution_count": 87,
      "outputs": [
        {
          "output_type": "execute_result",
          "data": {
            "text/plain": [
              "(12,)"
            ]
          },
          "metadata": {
            "tags": []
          },
          "execution_count": 87
        }
      ]
    },
    {
      "metadata": {
        "id": "m1IIKshCgYhZ",
        "colab_type": "text"
      },
      "cell_type": "markdown",
      "source": [
        "##Way 2 - Building a unique vector for each sentence\n",
        "This unique verctor should represents the sequentiality of sentences as well as the vocabulary used\n",
        "The operation may be done with an autoencoder"
      ]
    },
    {
      "metadata": {
        "id": "3wOoSv2khsZV",
        "colab_type": "code",
        "outputId": "ed7d5913-fd51-4ad0-cd88-f7af95cbb58e",
        "colab": {
          "base_uri": "https://localhost:8080/",
          "height": 34
        }
      },
      "cell_type": "code",
      "source": [
        "\n",
        "timesteps = data.shape[1]\n",
        "input_dim = data.shape[2]\n",
        "latent_dim = int(timesteps * input_dim / 100) # factor of compression\n",
        "# 20 does not reveal clusters\n",
        "\n",
        "print(timesteps,input_dim,latent_dim)"
      ],
      "execution_count": 88,
      "outputs": [
        {
          "output_type": "stream",
          "text": [
            "50 768 384\n"
          ],
          "name": "stdout"
        }
      ]
    },
    {
      "metadata": {
        "id": "w-PusLVffbKj",
        "colab_type": "code",
        "colab": {}
      },
      "cell_type": "code",
      "source": [
        "from keras.layers import Input, LSTM, RepeatVector\n",
        "from keras.models import Model\n",
        "\n",
        "\n",
        "inputs = Input(shape=(timesteps, input_dim))\n",
        "encoded = LSTM(latent_dim)(inputs)\n",
        "\n",
        "decoded = RepeatVector(timesteps)(encoded)\n",
        "decoded = LSTM(input_dim, return_sequences=True)(decoded)\n",
        "\n",
        "sequence_autoencoder = Model(inputs, decoded)\n",
        "encoder = Model(inputs, encoded)"
      ],
      "execution_count": 0,
      "outputs": []
    },
    {
      "metadata": {
        "id": "BB49AgYyhTd2",
        "colab_type": "code",
        "colab": {}
      },
      "cell_type": "code",
      "source": [
        ""
      ],
      "execution_count": 0,
      "outputs": []
    },
    {
      "metadata": {
        "id": "9y9M3S4uicJX",
        "colab_type": "code",
        "colab": {}
      },
      "cell_type": "code",
      "source": [
        "\n",
        "sequence_autoencoder.compile(optimizer='adadelta', loss='binary_crossentropy')"
      ],
      "execution_count": 0,
      "outputs": []
    },
    {
      "metadata": {
        "id": "fBbo7KHbiPOq",
        "colab_type": "code",
        "outputId": "febe2f4f-f7c5-4811-fa06-88ba9dddc31c",
        "colab": {
          "base_uri": "https://localhost:8080/",
          "height": 714
        }
      },
      "cell_type": "code",
      "source": [
        "from keras.callbacks import TensorBoard\n",
        "\n",
        "history = sequence_autoencoder.fit(data, data,\n",
        "                epochs=20,#with more resources, 50 step should be good\n",
        "                batch_size=10,\n",
        "                shuffle=True,\n",
        "                #validation_data=(data, data),\n",
        "                validation_split=0.10)"
      ],
      "execution_count": 91,
      "outputs": [
        {
          "output_type": "stream",
          "text": [
            "Train on 1800 samples, validate on 200 samples\n",
            "Epoch 1/20\n",
            "1800/1800 [==============================] - 320s 178ms/step - loss: -0.7022 - val_loss: -0.8099\n",
            "Epoch 2/20\n",
            "1800/1800 [==============================] - 311s 173ms/step - loss: -0.8330 - val_loss: -0.8784\n",
            "Epoch 3/20\n",
            "1800/1800 [==============================] - 312s 173ms/step - loss: -0.8126 - val_loss: -0.8837\n",
            "Epoch 4/20\n",
            "1800/1800 [==============================] - 316s 175ms/step - loss: -0.8776 - val_loss: -0.9099\n",
            "Epoch 5/20\n",
            "1800/1800 [==============================] - 311s 173ms/step - loss: -0.8832 - val_loss: -0.8701\n",
            "Epoch 6/20\n",
            "1800/1800 [==============================] - 307s 171ms/step - loss: -0.8816 - val_loss: -0.9065\n",
            "Epoch 7/20\n",
            "1800/1800 [==============================] - 307s 171ms/step - loss: -0.8753 - val_loss: -0.9132\n",
            "Epoch 8/20\n",
            "1800/1800 [==============================] - 313s 174ms/step - loss: -0.9051 - val_loss: -0.9266\n",
            "Epoch 9/20\n",
            "1800/1800 [==============================] - 315s 175ms/step - loss: -0.8991 - val_loss: -0.9270\n",
            "Epoch 10/20\n",
            "1800/1800 [==============================] - 319s 177ms/step - loss: -0.8979 - val_loss: -0.9225\n",
            "Epoch 11/20\n",
            "1800/1800 [==============================] - 319s 177ms/step - loss: -0.9196 - val_loss: -0.9341\n",
            "Epoch 12/20\n",
            "1800/1800 [==============================] - 305s 169ms/step - loss: -0.8986 - val_loss: -0.9354\n",
            "Epoch 13/20\n",
            "1800/1800 [==============================] - 310s 172ms/step - loss: -0.9118 - val_loss: -0.9302\n",
            "Epoch 14/20\n",
            "1800/1800 [==============================] - 310s 172ms/step - loss: -0.9219 - val_loss: -0.9238\n",
            "Epoch 15/20\n",
            "1800/1800 [==============================] - 305s 170ms/step - loss: -0.9146 - val_loss: -0.9487\n",
            "Epoch 16/20\n",
            "1800/1800 [==============================] - 306s 170ms/step - loss: -0.9266 - val_loss: -0.9495\n",
            "Epoch 17/20\n",
            "1800/1800 [==============================] - 304s 169ms/step - loss: -0.9292 - val_loss: -0.9505\n",
            "Epoch 18/20\n",
            "1800/1800 [==============================] - 312s 174ms/step - loss: -0.9210 - val_loss: -0.9484\n",
            "Epoch 19/20\n",
            "1800/1800 [==============================] - 312s 173ms/step - loss: -0.9269 - val_loss: -0.9486\n",
            "Epoch 20/20\n",
            "1800/1800 [==============================] - 319s 177ms/step - loss: -0.9275 - val_loss: -0.9529\n"
          ],
          "name": "stdout"
        }
      ]
    },
    {
      "metadata": {
        "id": "iIx518AgbYlf",
        "colab_type": "code",
        "colab": {}
      },
      "cell_type": "code",
      "source": [
        "def plot_history(history):\n",
        "    loss_list = [s for s in history.history.keys() if 'loss' in s and 'val' not in s]\n",
        "    val_loss_list = [s for s in history.history.keys() if 'loss' in s and 'val' in s]\n",
        "    acc_list = [s for s in history.history.keys() if 'acc' in s and 'val' not in s]\n",
        "    val_acc_list = [s for s in history.history.keys() if 'acc' in s and 'val' in s]\n",
        "    \n",
        "    if len(loss_list) == 0:\n",
        "        print('Loss is missing in history')\n",
        "        return \n",
        "    \n",
        "    ## As loss always exists\n",
        "    epochs = range(1,len(history.history[loss_list[0]]) + 1)\n",
        "    \n",
        "    ## Loss\n",
        "    plt.figure(1)\n",
        "    for l in loss_list:\n",
        "        plt.plot(epochs, history.history[l], 'b', label='Training loss (' + str(str(format(history.history[l][-1],'.5f'))+')'))\n",
        "    for l in val_loss_list:\n",
        "        plt.plot(epochs, history.history[l], 'g', label='Validation loss (' + str(str(format(history.history[l][-1],'.5f'))+')'))\n",
        "    \n",
        "    plt.title('Loss')\n",
        "    plt.xlabel('Epochs')\n",
        "    plt.ylabel('Loss')\n",
        "    plt.legend()\n",
        "    \n",
        "    plt.show()"
      ],
      "execution_count": 0,
      "outputs": []
    },
    {
      "metadata": {
        "id": "XOsRT6subb18",
        "colab_type": "code",
        "outputId": "7ba4749f-1247-4b3e-bda3-2b783cb9ad7d",
        "colab": {
          "base_uri": "https://localhost:8080/",
          "height": 376
        }
      },
      "cell_type": "code",
      "source": [
        "plot_history(history)"
      ],
      "execution_count": 93,
      "outputs": [
        {
          "output_type": "display_data",
          "data": {
            "image/png": "[encoded data removed]",
            "text/plain": [
              "<Figure size 576x396 with 1 Axes>"
            ]
          },
          "metadata": {
            "tags": []
          }
        }
      ]
    },
    {
      "metadata": {
        "id": "ut1orHRqiipA",
        "colab_type": "code",
        "colab": {}
      },
      "cell_type": "code",
      "source": [
        "encoded_sentences = encoder.predict(data)"
      ],
      "execution_count": 0,
      "outputs": []
    },
    {
      "metadata": {
        "id": "8Gumt5qkmeYc",
        "colab_type": "code",
        "outputId": "4b4bdf5f-bfa6-4dcb-9b0a-98983aae5e86",
        "colab": {
          "base_uri": "https://localhost:8080/",
          "height": 238
        }
      },
      "cell_type": "code",
      "source": [
        "encoded_sentences"
      ],
      "execution_count": 103,
      "outputs": [
        {
          "output_type": "execute_result",
          "data": {
            "text/plain": [
              "array([[-0.26245227, -0.25666213,  0.08752539, ..., -0.13205008,\n",
              "         0.04058826, -0.46819636],\n",
              "       [-0.40472546, -0.40587568,  0.42339396, ..., -0.15168694,\n",
              "        -0.25214458,  0.2220865 ],\n",
              "       [-0.6524361 , -0.11035485, -0.1997123 , ..., -0.33145887,\n",
              "         0.05024191, -0.30099094],\n",
              "       ...,\n",
              "       [-1.        , -0.1658944 , -0.05029906, ..., -0.73552513,\n",
              "         0.        , -0.        ],\n",
              "       [-0.19412555, -0.20926133, -0.06095055, ..., -0.12067217,\n",
              "         0.10307527, -0.45445633],\n",
              "       [-0.34465495, -0.33085325,  0.27042502, ..., -0.17514987,\n",
              "        -0.09972692, -0.40915352]], dtype=float32)"
            ]
          },
          "metadata": {
            "tags": []
          },
          "execution_count": 103
        }
      ]
    },
    {
      "metadata": {
        "id": "6S1BZh1emfk1",
        "colab_type": "code",
        "outputId": "66289b8c-dd59-4522-9fc6-738ec298c89e",
        "colab": {
          "base_uri": "https://localhost:8080/",
          "height": 34
        }
      },
      "cell_type": "code",
      "source": [
        "encoded_sentences.shape"
      ],
      "execution_count": 104,
      "outputs": [
        {
          "output_type": "execute_result",
          "data": {
            "text/plain": [
              "(2000, 384)"
            ]
          },
          "metadata": {
            "tags": []
          },
          "execution_count": 104
        }
      ]
    },
    {
      "metadata": {
        "id": "AcFLbgBkI2ZN",
        "colab_type": "text"
      },
      "cell_type": "markdown",
      "source": [
        "# Normalize data"
      ]
    },
    {
      "metadata": {
        "id": "zCOKC2_Jby1A",
        "colab_type": "code",
        "colab": {}
      },
      "cell_type": "code",
      "source": [
        "encoded_sentences=normalize(encoded_sentences,axis=0)"
      ],
      "execution_count": 0,
      "outputs": []
    },
    {
      "metadata": {
        "id": "Pc12_VL-Ikxm",
        "colab_type": "code",
        "outputId": "4c823fd5-b229-41f9-a64a-d2690a8fe201",
        "colab": {
          "base_uri": "https://localhost:8080/",
          "height": 238
        }
      },
      "cell_type": "code",
      "source": [
        "encoded_sentences"
      ],
      "execution_count": 110,
      "outputs": [
        {
          "output_type": "execute_result",
          "data": {
            "text/plain": [
              "array([[-0.00989847, -0.02037162,  0.00775637, ..., -0.0091825 ,\n",
              "         0.00710971, -0.0338003 ],\n",
              "       [-0.01526434, -0.03221491,  0.03752055, ..., -0.010548  ,\n",
              "        -0.04416731,  0.016033  ],\n",
              "       [-0.02460682, -0.00875902, -0.01769821, ..., -0.02304898,\n",
              "         0.0088007 , -0.02172931],\n",
              "       ...,\n",
              "       [-0.0377153 , -0.01316727, -0.00445743, ..., -0.05114694,\n",
              "         0.        , -0.        ],\n",
              "       [-0.0073215 , -0.01660936, -0.00540135, ..., -0.0083913 ,\n",
              "         0.01805534, -0.03280837],\n",
              "       [-0.01299877, -0.02626028,  0.02396467, ..., -0.01217957,\n",
              "        -0.01746883, -0.02953785]], dtype=float32)"
            ]
          },
          "metadata": {
            "tags": []
          },
          "execution_count": 110
        }
      ]
    },
    {
      "metadata": {
        "id": "WueHEEOqInGu",
        "colab_type": "code",
        "colab": {}
      },
      "cell_type": "code",
      "source": [
        ""
      ],
      "execution_count": 0,
      "outputs": []
    },
    {
      "metadata": {
        "id": "1hufmA0dmwcs",
        "colab_type": "code",
        "colab": {}
      },
      "cell_type": "code",
      "source": [
        "np.save(arr=encoded_sentences,file='GDN.384.npy')"
      ],
      "execution_count": 0,
      "outputs": []
    },
    {
      "metadata": {
        "id": "Hn2Z3INnlBrp",
        "colab_type": "code",
        "colab": {
          "base_uri": "https://localhost:8080/",
          "height": 102
        },
        "outputId": "a1c9a331-ea9f-4b39-b066-b62a1a7a7658"
      },
      "cell_type": "code",
      "source": [
        "! ls -alh GDN.*"
      ],
      "execution_count": 111,
      "outputs": [
        {
          "output_type": "stream",
          "text": [
            "-rw-r--r-- 1 root root 3.0M Apr  6 20:52 GDN.384.npy\n",
            "-rw-r--r-- 1 root root 227M Apr  6 16:40 GDN.csv\n",
            "-rw-r--r-- 1 root root 620M Apr  6 19:07 GDN.jsonl\n",
            "-rw-r--r-- 1 root root 586M Apr  6 19:07 GDN.npy\n",
            "-rw-r--r-- 1 root root 326K Apr  6 18:31 GDN.txt\n"
          ],
          "name": "stdout"
        }
      ]
    },
    {
      "metadata": {
        "id": "3EulifffDV-U",
        "colab_type": "text"
      },
      "cell_type": "markdown",
      "source": [
        "# Backup files to"
      ]
    },
    {
      "metadata": {
        "id": "qr_9kcNWCCpU",
        "colab_type": "code",
        "outputId": "0a22826b-ec16-4002-b213-5a50691de465",
        "colab": {
          "base_uri": "https://localhost:8080/",
          "height": 34
        }
      },
      "cell_type": "code",
      "source": [
        "# Install the PyDrive wrapper & import libraries.\n",
        "# This only needs to be done once per notebook.\n",
        "!pip install -U -q PyDrive\n",
        "from pydrive.auth import GoogleAuth\n",
        "from pydrive.drive import GoogleDrive\n",
        "from google.colab import auth\n",
        "from oauth2client.client import GoogleCredentials\n",
        "\n",
        "# Authenticate and create the PyDrive client.\n",
        "# This only needs to be done once per notebook.\n",
        "auth.authenticate_user()\n",
        "gauth = GoogleAuth()\n",
        "gauth.credentials = GoogleCredentials.get_application_default()\n",
        "drive = GoogleDrive(gauth)\n",
        "\n",
        "gdn = drive.CreateFile()\n",
        "# Read file and set it as a content of this instance.\n",
        "gdn.SetContentFile('GDN.384.npy')\n",
        "gdn.Upload() # Upload the file.\n",
        "print('title: %s, mimeType: %s' % (gdn['title'], gdn['mimeType']))\n"
      ],
      "execution_count": 101,
      "outputs": [
        {
          "output_type": "stream",
          "text": [
            "title: GDN.384.npy, mimeType: application/octet-stream\n"
          ],
          "name": "stdout"
        }
      ]
    },
    {
      "metadata": {
        "id": "qK5D_MfSmMp8",
        "colab_type": "code",
        "colab": {}
      },
      "cell_type": "code",
      "source": [
        ""
      ],
      "execution_count": 0,
      "outputs": []
    },
    {
      "metadata": {
        "id": "1H43XUyhlDv6",
        "colab_type": "code",
        "colab": {}
      },
      "cell_type": "code",
      "source": [
        ""
      ],
      "execution_count": 0,
      "outputs": []
    },
    {
      "metadata": {
        "id": "hrkwZmwwhBNL",
        "colab_type": "code",
        "colab": {}
      },
      "cell_type": "code",
      "source": [
        ""
      ],
      "execution_count": 0,
      "outputs": []
    },
    {
      "metadata": {
        "id": "Ts0rsFvihBRX",
        "colab_type": "code",
        "colab": {}
      },
      "cell_type": "code",
      "source": [
        ""
      ],
      "execution_count": 0,
      "outputs": []
    },
    {
      "metadata": {
        "id": "55UIP294hBVY",
        "colab_type": "code",
        "colab": {}
      },
      "cell_type": "code",
      "source": [
        ""
      ],
      "execution_count": 0,
      "outputs": []
    }
  ]
}